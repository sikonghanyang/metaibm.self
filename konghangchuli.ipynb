{
 "cells": [
  {
   "cell_type": "code",
   "execution_count": 2,
   "id": "77a955b3",
   "metadata": {},
   "outputs": [],
   "source": [
    "import os\n",
    "import re\n",
    "import numpy as np\n",
    "import pandas as pd"
   ]
  },
  {
   "cell_type": "code",
   "execution_count": 3,
   "id": "d18c08d7",
   "metadata": {},
   "outputs": [],
   "source": [
    "df = pd.read_csv(\"rep=0-meta_species_distribution_all_time1.csv.gz\", compression='gzip', header=[0,1,2], index_col=[0], skiprows=lambda x: x>=3 and x<=502,skip_blank_lines=False)"
   ]
  },
  {
   "cell_type": "code",
   "execution_count": 12,
   "id": "5ad92f3f",
   "metadata": {},
   "outputs": [
    {
     "name": "stdout",
     "output_type": "stream",
     "text": [
      "Empty DataFrame\n",
      "Columns: [(patch1, h0, r0, c0), (patch1, h0, r0, c1), (patch1, h0, r0, c2), (patch1, h0, r0, c3), (patch1, h0, r0, c4), (patch1, h0, r0, c5), (patch1, h0, r0, c6), (patch1, h0, r0, c7), (patch1, h0, r0, c8), (patch1, h0, r0, c9), (patch1, h0, r0, c10), (patch1, h0, r0, c11), (patch1, h0, r0, c12), (patch1, h0, r0, c13), (patch1, h0, r0, c14), (patch1, h0, r0, c15), (patch1, h0, r0, c16), (patch1, h0, r0, c17), (patch1, h0, r0, c18), (patch1, h0, r0, c19), (patch1, h0, r0, c20), (patch1, h0, r0, c21), (patch1, h0, r0, c22), (patch1, h0, r0, c23), (patch1, h0, r0, c24), (patch1, h0, r0, c25), (patch1, h0, r0, c26), (patch1, h0, r0, c27), (patch1, h0, r0, c28), (patch1, h0, r0, c29), (patch1, h0, r0, c30), (patch1, h0, r0, c31), (patch1, h0, r0, c32), (patch1, h0, r0, c33), (patch1, h0, r0, c34), (patch1, h0, r0, c35), (patch1, h0, r0, c36), (patch1, h0, r0, c37), (patch1, h0, r0, c38), (patch1, h0, r0, c39), (patch1, h0, r1, c0), (patch1, h0, r1, c1), (patch1, h0, r1, c2), (patch1, h0, r1, c3), (patch1, h0, r1, c4), (patch1, h0, r1, c5), (patch1, h0, r1, c6), (patch1, h0, r1, c7), (patch1, h0, r1, c8), (patch1, h0, r1, c9), (patch1, h0, r1, c10), (patch1, h0, r1, c11), (patch1, h0, r1, c12), (patch1, h0, r1, c13), (patch1, h0, r1, c14), (patch1, h0, r1, c15), (patch1, h0, r1, c16), (patch1, h0, r1, c17), (patch1, h0, r1, c18), (patch1, h0, r1, c19), (patch1, h0, r1, c20), (patch1, h0, r1, c21), (patch1, h0, r1, c22), (patch1, h0, r1, c23), (patch1, h0, r1, c24), (patch1, h0, r1, c25), (patch1, h0, r1, c26), (patch1, h0, r1, c27), (patch1, h0, r1, c28), (patch1, h0, r1, c29), (patch1, h0, r1, c30), (patch1, h0, r1, c31), (patch1, h0, r1, c32), (patch1, h0, r1, c33), (patch1, h0, r1, c34), (patch1, h0, r1, c35), (patch1, h0, r1, c36), (patch1, h0, r1, c37), (patch1, h0, r1, c38), (patch1, h0, r1, c39), (patch1, h0, r2, c0), (patch1, h0, r2, c1), (patch1, h0, r2, c2), (patch1, h0, r2, c3), (patch1, h0, r2, c4), (patch1, h0, r2, c5), (patch1, h0, r2, c6), (patch1, h0, r2, c7), (patch1, h0, r2, c8), (patch1, h0, r2, c9), (patch1, h0, r2, c10), (patch1, h0, r2, c11), (patch1, h0, r2, c12), (patch1, h0, r2, c13), (patch1, h0, r2, c14), (patch1, h0, r2, c15), (patch1, h0, r2, c16), (patch1, h0, r2, c17), (patch1, h0, r2, c18), (patch1, h0, r2, c19), ...]\n",
      "Index: []\n",
      "\n",
      "[0 rows x 102400 columns]\n"
     ]
    }
   ],
   "source": [
    "\n",
    "\n",
    "df = pd.read_csv(\"rep=0-meta_species_distribution_all_time1.csv.gz\", compression='gzip', header=[0, 1, 2], index_col=[0], skiprows=lambda x: x>=3 and x<=502,skip_blank_lines=False)\n",
    "\n",
    "# 检查哪些行是空的，并将它们替换为 NaN\n",
    "for index, row in df.iterrows():\n",
    "    if row.isna().all():\n",
    "        df.loc[index] = np.nan\n",
    "\n",
    "print(df.head())"
   ]
  },
  {
   "cell_type": "code",
   "execution_count": null,
   "id": "7cd2d936",
   "metadata": {},
   "outputs": [
    {
     "name": "stdout",
     "output_type": "stream",
     "text": [
      "102400\n"
     ]
    }
   ],
   "source": [
    "columns = df.columns.tolist()\n",
    "print(len(columns))\n",
    "array = np.zeros((1, len(columns)))\n",
    "\n",
    "# 将所有元素设置为 NaN\n",
    "array[:] = np.nan\n",
    "df.loc['time_step499'] = np.nan"
   ]
  },
  {
   "cell_type": "code",
   "execution_count": 5,
   "id": "7091c363",
   "metadata": {},
   "outputs": [
    {
     "name": "stdout",
     "output_type": "stream",
     "text": [
      "             patch1                                                          \\\n",
      "                 h0                                                           \n",
      "             r0, c0 r0, c1 r0, c2 r0, c3 r0, c4 r0, c5 r0, c6 r0, c7 r0, c8   \n",
      "time_step499                                                                  \n",
      "tp              NaN    NaN    NaN    NaN    NaN    NaN    NaN    NaN    NaN   \n",
      "\n",
      "                     ...  patch16                                      \\\n",
      "                     ...       h3                                       \n",
      "             r0, c9  ... r39, c30 r39, c31 r39, c32 r39, c33 r39, c34   \n",
      "time_step499         ...                                                \n",
      "tp              NaN  ...      NaN      NaN      NaN      NaN      NaN   \n",
      "\n",
      "                                                           \n",
      "                                                           \n",
      "             r39, c35 r39, c36 r39, c37 r39, c38 r39, c39  \n",
      "time_step499                                               \n",
      "tp                NaN      NaN      NaN      NaN      NaN  \n",
      "\n",
      "[1 rows x 102400 columns]\n"
     ]
    }
   ],
   "source": [
    "print(df.head())"
   ]
  },
  {
   "cell_type": "code",
   "execution_count": 13,
   "id": "7b38b31a",
   "metadata": {},
   "outputs": [
    {
     "name": "stdout",
     "output_type": "stream",
     "text": [
      "time_step499 行不存在于索引中\n"
     ]
    }
   ],
   "source": [
    "if 'time_step499' in df.index:\n",
    "    # 检查该行是否全为空\n",
    "    if df.loc['time_step499'].isna().all():\n",
    "        # 如果该行全为空，则将其所有列值替换为 NaN\n",
    "        df.loc['time_step499'] = np.nan\n",
    "    else:\n",
    "        print(\"time_step499 行不为空，保留原数据\")\n",
    "else:\n",
    "    print(\"time_step499 行不存在于索引中\")"
   ]
  },
  {
   "cell_type": "code",
   "execution_count": 11,
   "id": "40829dc2",
   "metadata": {},
   "outputs": [
    {
     "name": "stdout",
     "output_type": "stream",
     "text": [
      "                     patch1                                                   \\\n",
      "                         h0                                                    \n",
      "                     r0, c0 r0, c1 r0, c2 r0, c3 r0, c4 r0, c5 r0, c6 r0, c7   \n",
      "optimun_sp_id_values    1.0    1.0    1.0    1.0    1.0    1.0    1.0    1.0   \n",
      "time_step0              NaN    NaN    NaN    NaN    NaN    NaN    NaN    NaN   \n",
      "time_step1              NaN    NaN    NaN    NaN    NaN    NaN    NaN    NaN   \n",
      "time_step2              NaN    NaN    NaN    NaN    NaN    NaN    NaN    NaN   \n",
      "time_step3              NaN    NaN    NaN    NaN    NaN    NaN    NaN    NaN   \n",
      "\n",
      "                                    ...  patch16                             \\\n",
      "                                    ...       h3                              \n",
      "                     r0, c8 r0, c9  ... r39, c30 r39, c31 r39, c32 r39, c33   \n",
      "optimun_sp_id_values    1.0    1.0  ...     89.0     89.0     89.0     89.0   \n",
      "time_step0              NaN    NaN  ...      NaN      NaN      NaN      NaN   \n",
      "time_step1              NaN    NaN  ...      NaN      NaN      NaN      NaN   \n",
      "time_step2              NaN    NaN  ...      NaN      NaN      NaN      NaN   \n",
      "time_step3              NaN    NaN  ...      NaN      NaN      NaN      NaN   \n",
      "\n",
      "                                                                            \n",
      "                                                                            \n",
      "                     r39, c34 r39, c35 r39, c36 r39, c37 r39, c38 r39, c39  \n",
      "optimun_sp_id_values     89.0     89.0     89.0     89.0     89.0     89.0  \n",
      "time_step0                NaN      NaN      NaN      NaN      NaN      NaN  \n",
      "time_step1                NaN      NaN      NaN      NaN      NaN      NaN  \n",
      "time_step2                NaN      NaN      NaN      NaN      NaN      NaN  \n",
      "time_step3                NaN      NaN      NaN      NaN      NaN      NaN  \n",
      "\n",
      "[5 rows x 102400 columns]\n"
     ]
    }
   ],
   "source": [
    "print(df.head())"
   ]
  }
 ],
 "metadata": {
  "kernelspec": {
   "display_name": "JCE",
   "language": "python",
   "name": "python3"
  },
  "language_info": {
   "codemirror_mode": {
    "name": "ipython",
    "version": 3
   },
   "file_extension": ".py",
   "mimetype": "text/x-python",
   "name": "python",
   "nbconvert_exporter": "python",
   "pygments_lexer": "ipython3",
   "version": "3.11.11"
  }
 },
 "nbformat": 4,
 "nbformat_minor": 5
}
