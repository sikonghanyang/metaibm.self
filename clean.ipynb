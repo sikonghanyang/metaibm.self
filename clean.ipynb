{
 "cells": [
  {
   "cell_type": "code",
   "execution_count": 4,
   "id": "1721f0b7",
   "metadata": {},
   "outputs": [],
   "source": [
    "\n",
    "import pandas as pd\n",
    "import os\n"
   ]
  },
  {
   "cell_type": "code",
   "execution_count": 6,
   "id": "303b3d15",
   "metadata": {},
   "outputs": [],
   "source": [
    "\n",
    "\n",
    "def clean_csv_files(directory):\n",
    "    # 遍历指定目录下的所有文件\n",
    "    for filename in os.listdir(directory):\n",
    "        if filename.endswith('.csv'):\n",
    "            file_path = os.path.join(directory, filename)\n",
    "            print(f\"正在处理文件: {file_path}\")\n",
    "            \n",
    "            # 读取CSV文件\n",
    "            df = pd.read_csv(file_path)\n",
    "            \n",
    "            # 去除多余的前导零和后随零\n",
    "            def clean_value(x):\n",
    "                try:\n",
    "                    # 尝试将字符串转换为浮点数\n",
    "                    return float(x)\n",
    "                except ValueError:\n",
    "                    # 如果转换失败，保留原值\n",
    "                    return x\n",
    "            \n",
    "            # 应用清理函数到所有列\n",
    "            df = df.applymap(clean_value)\n",
    "            \n",
    "            # 保存清理后的文件，直接覆盖原文件\n",
    "            df.to_csv(file_path, index=False)\n",
    "            print(f\"文件已清理并保存为: {file_path}\")\n",
    "\n",
    "# 指定目录路径\n"
   ]
  },
  {
   "cell_type": "code",
   "execution_count": 7,
   "id": "9dce0092",
   "metadata": {},
   "outputs": [
    {
     "name": "stdout",
     "output_type": "stream",
     "text": [
      "正在处理文件: D:\\大学文件\\metaibm\\metaibm.self\\并行\\all_culmulative_species_richness_curves.csv\n",
      "文件已清理并保存为: D:\\大学文件\\metaibm\\metaibm.self\\并行\\all_culmulative_species_richness_curves.csv\n",
      "正在处理文件: D:\\大学文件\\metaibm\\metaibm.self\\并行\\all_global_diversity_hill0.csv\n",
      "文件已清理并保存为: D:\\大学文件\\metaibm\\metaibm.self\\并行\\all_global_diversity_hill0.csv\n",
      "正在处理文件: D:\\大学文件\\metaibm\\metaibm.self\\并行\\all_global_diversity_hill1.csv\n",
      "文件已清理并保存为: D:\\大学文件\\metaibm\\metaibm.self\\并行\\all_global_diversity_hill1.csv\n",
      "正在处理文件: D:\\大学文件\\metaibm\\metaibm.self\\并行\\all_global_diversity_hill2.csv\n",
      "文件已清理并保存为: D:\\大学文件\\metaibm\\metaibm.self\\并行\\all_global_diversity_hill2.csv\n",
      "正在处理文件: D:\\大学文件\\metaibm\\metaibm.self\\并行\\all_habitat_diversity_hill0.csv\n",
      "文件已清理并保存为: D:\\大学文件\\metaibm\\metaibm.self\\并行\\all_habitat_diversity_hill0.csv\n",
      "正在处理文件: D:\\大学文件\\metaibm\\metaibm.self\\并行\\all_habitat_diversity_hill1.csv\n",
      "文件已清理并保存为: D:\\大学文件\\metaibm\\metaibm.self\\并行\\all_habitat_diversity_hill1.csv\n",
      "正在处理文件: D:\\大学文件\\metaibm\\metaibm.self\\并行\\all_habitat_diversity_hill2.csv\n",
      "文件已清理并保存为: D:\\大学文件\\metaibm\\metaibm.self\\并行\\all_habitat_diversity_hill2.csv\n",
      "正在处理文件: D:\\大学文件\\metaibm\\metaibm.self\\并行\\all_patch_diversity_hill0.csv\n",
      "文件已清理并保存为: D:\\大学文件\\metaibm\\metaibm.self\\并行\\all_patch_diversity_hill0.csv\n",
      "正在处理文件: D:\\大学文件\\metaibm\\metaibm.self\\并行\\all_patch_diversity_hill1.csv\n",
      "文件已清理并保存为: D:\\大学文件\\metaibm\\metaibm.self\\并行\\all_patch_diversity_hill1.csv\n",
      "正在处理文件: D:\\大学文件\\metaibm\\metaibm.self\\并行\\all_patch_diversity_hill2.csv\n",
      "文件已清理并保存为: D:\\大学文件\\metaibm\\metaibm.self\\并行\\all_patch_diversity_hill2.csv\n"
     ]
    },
    {
     "name": "stderr",
     "output_type": "stream",
     "text": [
      "C:\\Users\\pwy23\\AppData\\Local\\Temp\\ipykernel_24136\\244096220.py:21: FutureWarning: DataFrame.applymap has been deprecated. Use DataFrame.map instead.\n",
      "  df = df.applymap(clean_value)\n",
      "C:\\Users\\pwy23\\AppData\\Local\\Temp\\ipykernel_24136\\244096220.py:21: FutureWarning: DataFrame.applymap has been deprecated. Use DataFrame.map instead.\n",
      "  df = df.applymap(clean_value)\n",
      "C:\\Users\\pwy23\\AppData\\Local\\Temp\\ipykernel_24136\\244096220.py:21: FutureWarning: DataFrame.applymap has been deprecated. Use DataFrame.map instead.\n",
      "  df = df.applymap(clean_value)\n",
      "C:\\Users\\pwy23\\AppData\\Local\\Temp\\ipykernel_24136\\244096220.py:21: FutureWarning: DataFrame.applymap has been deprecated. Use DataFrame.map instead.\n",
      "  df = df.applymap(clean_value)\n",
      "C:\\Users\\pwy23\\AppData\\Local\\Temp\\ipykernel_24136\\244096220.py:21: FutureWarning: DataFrame.applymap has been deprecated. Use DataFrame.map instead.\n",
      "  df = df.applymap(clean_value)\n",
      "C:\\Users\\pwy23\\AppData\\Local\\Temp\\ipykernel_24136\\244096220.py:21: FutureWarning: DataFrame.applymap has been deprecated. Use DataFrame.map instead.\n",
      "  df = df.applymap(clean_value)\n",
      "C:\\Users\\pwy23\\AppData\\Local\\Temp\\ipykernel_24136\\244096220.py:21: FutureWarning: DataFrame.applymap has been deprecated. Use DataFrame.map instead.\n",
      "  df = df.applymap(clean_value)\n",
      "C:\\Users\\pwy23\\AppData\\Local\\Temp\\ipykernel_24136\\244096220.py:21: FutureWarning: DataFrame.applymap has been deprecated. Use DataFrame.map instead.\n",
      "  df = df.applymap(clean_value)\n",
      "C:\\Users\\pwy23\\AppData\\Local\\Temp\\ipykernel_24136\\244096220.py:21: FutureWarning: DataFrame.applymap has been deprecated. Use DataFrame.map instead.\n",
      "  df = df.applymap(clean_value)\n",
      "C:\\Users\\pwy23\\AppData\\Local\\Temp\\ipykernel_24136\\244096220.py:21: FutureWarning: DataFrame.applymap has been deprecated. Use DataFrame.map instead.\n",
      "  df = df.applymap(clean_value)\n"
     ]
    }
   ],
   "source": [
    "directory_path = r'D:\\大学文件\\metaibm\\metaibm.self\\并行'  # 替换为你的CSV文件所在的目录路径\n",
    "clean_csv_files(directory_path)"
   ]
  }
 ],
 "metadata": {
  "kernelspec": {
   "display_name": "JCE",
   "language": "python",
   "name": "python3"
  },
  "language_info": {
   "codemirror_mode": {
    "name": "ipython",
    "version": 3
   },
   "file_extension": ".py",
   "mimetype": "text/x-python",
   "name": "python",
   "nbconvert_exporter": "python",
   "pygments_lexer": "ipython3",
   "version": "3.11.11"
  }
 },
 "nbformat": 4,
 "nbformat_minor": 5
}
