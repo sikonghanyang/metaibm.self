{
 "cells": [
  {
   "cell_type": "code",
   "execution_count": 3,
   "metadata": {},
   "outputs": [],
   "source": [
    "import numpy as np"
   ]
  },
  {
   "cell_type": "code",
   "execution_count": 10,
   "metadata": {},
   "outputs": [],
   "source": [
    "rep_paras = np.arange(0,3)\n",
    "baseline_jce = np.array([0.51,0.356,0.01005])\n",
    "decay_jce = np.array([5,10,15])\n",
    "all_jobs_parameters = [\n",
    "    (k ,i, j)\n",
    "    for k in rep_paras\n",
    "    for i in baseline_jce\n",
    "    for j in decay_jce\n",
    "]\n",
    "rep, baseline_jce, decay_jce= all_jobs_parameters[0]"
   ]
  },
  {
   "cell_type": "code",
   "execution_count": 9,
   "metadata": {},
   "outputs": [
    {
     "data": {
      "text/plain": [
       "5"
      ]
     },
     "execution_count": 9,
     "metadata": {},
     "output_type": "execute_result"
    }
   ],
   "source": [
    "rep\n",
    "baseline_jce\n",
    "decay_jce"
   ]
  }
 ],
 "metadata": {
  "kernelspec": {
   "display_name": "JCE",
   "language": "python",
   "name": "python3"
  },
  "language_info": {
   "codemirror_mode": {
    "name": "ipython",
    "version": 3
   },
   "file_extension": ".py",
   "mimetype": "text/x-python",
   "name": "python",
   "nbconvert_exporter": "python",
   "pygments_lexer": "ipython3",
   "version": "3.11.11"
  }
 },
 "nbformat": 4,
 "nbformat_minor": 2
}
