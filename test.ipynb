{
 "cells": [
  {
   "cell_type": "code",
   "execution_count": 1,
   "metadata": {},
   "outputs": [],
   "source": [
    "import metacommunity_IBM as metaIBM\n",
    "from metacommunity_IBM import patch\n",
    "from metacommunity_IBM import metacommunity"
   ]
  },
  {
   "cell_type": "code",
   "execution_count": 2,
   "metadata": {},
   "outputs": [],
   "source": [
    "import os\n",
    "import time\n",
    "\n",
    "import numpy as np\n",
    "import matplotlib.pyplot as plt\n",
    "from matplotlib.colors import ListedColormap"
   ]
  },
  {
   "cell_type": "code",
   "execution_count": 3,
   "metadata": {},
   "outputs": [],
   "source": [
    "def generate_empty_mainland(meta_name, patch_num, patch_location_ls, hab_num, hab_length, hab_width, \n",
    "                            dormancy_pool_max_size, x_axis_environment_values_ls, y_axis_environment_values_ls, \n",
    "                            environment_types_num, environment_types_name, environment_variation_ls,baseline_jce,decay_jce):\n",
    "    log_info = 'generating empty mainland ... \\n'\n",
    "    meta_object = metacommunity(metacommunity_name=meta_name)\n",
    "    for i in range(0, patch_num):\n",
    "        patch_name = 'patch%d'%(i)\n",
    "        patch_index = i\n",
    "        location = patch_location_ls[i]\n",
    "        patch_x_loc, patch_y_loc = location[0], location[1]\n",
    "        p = patch(patch_name, patch_index, location)\n",
    "        \n",
    "        hab_num_length, hab_num_width = int(np.sqrt(hab_num)), int(np.sqrt(hab_num))\n",
    "        \n",
    "        for j in range(hab_num):\n",
    "            habitat_name = 'h%s'%str(j)\n",
    "            hab_index = j\n",
    "            \n",
    "            hab_x_loc, hab_y_loc = patch_x_loc*hab_num_length+j//hab_num_width, patch_y_loc*hab_num_width+j%hab_num_width\n",
    "            hab_location = (hab_x_loc, hab_y_loc)\n",
    "            \n",
    "            micro_environment_mean_value = x_axis_environment_values_ls[j//hab_num_width]\n",
    "            macro_environment_mean_value = y_axis_environment_values_ls[j%hab_num_width]\n",
    "            \n",
    "            p.add_habitat(hab_name=habitat_name, hab_index=hab_index, hab_location=hab_location, num_env_types=environment_types_num, env_types_name=environment_types_name, \n",
    "                          mean_env_ls=[micro_environment_mean_value, macro_environment_mean_value], var_env_ls=environment_variation_ls, length=hab_length, width=hab_width, dormancy_pool_max_size=dormancy_pool_max_size,a = baseline_jce, v = decay_jce)\n",
    "            \n",
    "            info = '%s: %s, %s, %s, %s: x_axis_environment_mean_value=%s, y_axis_environment_mean_value=%s \\n'%(meta_object.metacommunity_name, patch_name, str(location), habitat_name, str(hab_location), str(micro_environment_mean_value), str(macro_environment_mean_value))\n",
    "            log_info = log_info + info\n",
    "        meta_object.add_patch(patch_name=patch_name, patch_object=p)\n",
    "    #print(log_info)\n",
    "    return meta_object, log_info"
   ]
  },
  {
   "cell_type": "markdown",
   "metadata": {},
   "source": [
    "# 创建一个空的mainland"
   ]
  },
  {
   "cell_type": "code",
   "execution_count": 4,
   "metadata": {},
   "outputs": [],
   "source": [
    "mainland, log_info = generate_empty_mainland(meta_name='mainland', patch_num=1, patch_location_ls=[(0,0)], \n",
    "                                             hab_num=100, hab_length=20, hab_width=20, dormancy_pool_max_size=0, \n",
    "                                             x_axis_environment_values_ls=[0.0,0.1,0.2,0.3,0.4,0.5,0.6,0.7,0.8,0.9], \n",
    "                                             y_axis_environment_values_ls=[0.0,0.1,0.2,0.3,0.4,0.5,0.6,0.7,0.8,0.9], \n",
    "                                             environment_types_num=2, environment_types_name=('x_axis_environment', 'y_axis_environment'), \n",
    "                                             environment_variation_ls=[0.025, 0.025],baseline_jce = 0.51,decay_jce = 5)"
   ]
  },
  {
   "cell_type": "markdown",
   "metadata": {},
   "source": [
    "基线死亡率=0.51，衰减率=5"
   ]
  },
  {
   "cell_type": "code",
   "execution_count": null,
   "metadata": {},
   "outputs": [],
   "source": [
    "print(log_info)"
   ]
  },
  {
   "cell_type": "markdown",
   "metadata": {},
   "source": [
    "生成100种基础物种[phenotype_x, phenotype_y]\n",
    "\n",
    "species_2_phenotype_ls 用于定义大陆所有物种的表型，其中 list 的索引是物种的索引。\n",
    "\n",
    "例如：\n",
    "species_2_phenotype_ls[i] 是 species_i 的 （'x_axis_phenotype'， 'y_axis_phenotype'）。"
   ]
  },
  {
   "cell_type": "code",
   "execution_count": 6,
   "metadata": {},
   "outputs": [
    {
     "name": "stdout",
     "output_type": "stream",
     "text": [
      "[[0.0, 0.0], [0.0, 0.1], [0.0, 0.2], [0.0, 0.3], [0.0, 0.4], [0.0, 0.5], [0.0, 0.6], [0.0, 0.7], [0.0, 0.8], [0.0, 0.9], [0.1, 0.0], [0.1, 0.1], [0.1, 0.2], [0.1, 0.3], [0.1, 0.4], [0.1, 0.5], [0.1, 0.6], [0.1, 0.7], [0.1, 0.8], [0.1, 0.9], [0.2, 0.0], [0.2, 0.1], [0.2, 0.2], [0.2, 0.3], [0.2, 0.4], [0.2, 0.5], [0.2, 0.6], [0.2, 0.7], [0.2, 0.8], [0.2, 0.9], [0.3, 0.0], [0.3, 0.1], [0.3, 0.2], [0.3, 0.3], [0.3, 0.4], [0.3, 0.5], [0.3, 0.6], [0.3, 0.7], [0.3, 0.8], [0.3, 0.9], [0.4, 0.0], [0.4, 0.1], [0.4, 0.2], [0.4, 0.3], [0.4, 0.4], [0.4, 0.5], [0.4, 0.6], [0.4, 0.7], [0.4, 0.8], [0.4, 0.9], [0.5, 0.0], [0.5, 0.1], [0.5, 0.2], [0.5, 0.3], [0.5, 0.4], [0.5, 0.5], [0.5, 0.6], [0.5, 0.7], [0.5, 0.8], [0.5, 0.9], [0.6, 0.0], [0.6, 0.1], [0.6, 0.2], [0.6, 0.3], [0.6, 0.4], [0.6, 0.5], [0.6, 0.6], [0.6, 0.7], [0.6, 0.8], [0.6, 0.9], [0.7, 0.0], [0.7, 0.1], [0.7, 0.2], [0.7, 0.3], [0.7, 0.4], [0.7, 0.5], [0.7, 0.6], [0.7, 0.7], [0.7, 0.8], [0.7, 0.9], [0.8, 0.0], [0.8, 0.1], [0.8, 0.2], [0.8, 0.3], [0.8, 0.4], [0.8, 0.5], [0.8, 0.6], [0.8, 0.7], [0.8, 0.8], [0.8, 0.9], [0.9, 0.0], [0.9, 0.1], [0.9, 0.2], [0.9, 0.3], [0.9, 0.4], [0.9, 0.5], [0.9, 0.6], [0.9, 0.7], [0.9, 0.8], [0.9, 0.9]]\n"
     ]
    }
   ],
   "source": [
    "species_2_phenotype_ls = [[i/10, j/10] for i in range(0,10) for j in range(0,10)]\n",
    "print(species_2_phenotype_ls)"
   ]
  },
  {
   "cell_type": "code",
   "execution_count": 7,
   "metadata": {},
   "outputs": [
    {
     "ename": "KeyError",
     "evalue": "'sp1'",
     "output_type": "error",
     "traceback": [
      "\u001b[1;31m---------------------------------------------------------------------------\u001b[0m",
      "\u001b[1;31mKeyError\u001b[0m                                  Traceback (most recent call last)",
      "Cell \u001b[1;32mIn[7], line 1\u001b[0m\n\u001b[1;32m----> 1\u001b[0m mainland\u001b[38;5;241m.\u001b[39mmeta_initialize(traits_num\u001b[38;5;241m=\u001b[39m\u001b[38;5;241m2\u001b[39m, pheno_names_ls\u001b[38;5;241m=\u001b[39m(\u001b[38;5;124m'\u001b[39m\u001b[38;5;124mx_axis_phenotype\u001b[39m\u001b[38;5;124m'\u001b[39m, \u001b[38;5;124m'\u001b[39m\u001b[38;5;124my_axis_phenotype\u001b[39m\u001b[38;5;124m'\u001b[39m), pheno_var_ls\u001b[38;5;241m=\u001b[39m(\u001b[38;5;241m0.025\u001b[39m, \u001b[38;5;241m0.025\u001b[39m), geno_len_ls\u001b[38;5;241m=\u001b[39m(\u001b[38;5;241m20\u001b[39m, \u001b[38;5;241m20\u001b[39m), reproduce_mode\u001b[38;5;241m=\u001b[39m\u001b[38;5;124m'\u001b[39m\u001b[38;5;124masexual\u001b[39m\u001b[38;5;124m'\u001b[39m, species_2_phenotype_ls\u001b[38;5;241m=\u001b[39mspecies_2_phenotype_ls)\n",
      "File \u001b[1;32mc:\\Users\\pwy23\\Desktop\\metaibm\\metaibm.self\\metacommunity_IBM.py:1362\u001b[0m, in \u001b[0;36mmetacommunity.meta_initialize\u001b[1;34m(self, traits_num, pheno_names_ls, pheno_var_ls, geno_len_ls, reproduce_mode, species_2_phenotype_ls)\u001b[0m\n\u001b[0;32m   1360\u001b[0m \u001b[38;5;28;01mdef\u001b[39;00m \u001b[38;5;21mmeta_initialize\u001b[39m(\u001b[38;5;28mself\u001b[39m, traits_num, pheno_names_ls, pheno_var_ls, geno_len_ls, reproduce_mode, species_2_phenotype_ls):\n\u001b[0;32m   1361\u001b[0m     \u001b[38;5;28;01mfor\u001b[39;00m patch_id, patch_object \u001b[38;5;129;01min\u001b[39;00m \u001b[38;5;28mself\u001b[39m\u001b[38;5;241m.\u001b[39mset\u001b[38;5;241m.\u001b[39mitems():\n\u001b[1;32m-> 1362\u001b[0m         patch_object\u001b[38;5;241m.\u001b[39mpatch_initialize(traits_num, pheno_names_ls, pheno_var_ls, geno_len_ls, reproduce_mode, species_2_phenotype_ls)\n\u001b[0;32m   1363\u001b[0m     log_info \u001b[38;5;241m=\u001b[39m \u001b[38;5;124m'\u001b[39m\u001b[38;5;132;01m%s\u001b[39;00m\u001b[38;5;124m initialization done! \u001b[39m\u001b[38;5;130;01m\\n\u001b[39;00m\u001b[38;5;124m'\u001b[39m\u001b[38;5;241m%\u001b[39m(\u001b[38;5;28mself\u001b[39m\u001b[38;5;241m.\u001b[39mmetacommunity_name)\n\u001b[0;32m   1364\u001b[0m     \u001b[38;5;66;03m#print(log_info)\u001b[39;00m\n",
      "File \u001b[1;32mc:\\Users\\pwy23\\Desktop\\metaibm\\metaibm.self\\metacommunity_IBM.py:735\u001b[0m, in \u001b[0;36mpatch.patch_initialize\u001b[1;34m(self, traits_num, pheno_names_ls, pheno_var_ls, geno_len_ls, reproduce_mode, species_2_phenotype_ls)\u001b[0m\n\u001b[0;32m    733\u001b[0m \u001b[38;5;28;01mdef\u001b[39;00m \u001b[38;5;21mpatch_initialize\u001b[39m(\u001b[38;5;28mself\u001b[39m, traits_num, pheno_names_ls, pheno_var_ls, geno_len_ls, reproduce_mode, species_2_phenotype_ls):\n\u001b[0;32m    734\u001b[0m     \u001b[38;5;28;01mfor\u001b[39;00m h_id, h_object \u001b[38;5;129;01min\u001b[39;00m \u001b[38;5;28mself\u001b[39m\u001b[38;5;241m.\u001b[39mset\u001b[38;5;241m.\u001b[39mitems():\n\u001b[1;32m--> 735\u001b[0m         h_object\u001b[38;5;241m.\u001b[39mhab_initialize(traits_num, pheno_names_ls, pheno_var_ls, geno_len_ls, reproduce_mode, species_2_phenotype_ls)\n\u001b[0;32m    736\u001b[0m     \u001b[38;5;28;01mreturn\u001b[39;00m \u001b[38;5;241m0\u001b[39m\n",
      "File \u001b[1;32mc:\\Users\\pwy23\\Desktop\\metaibm\\metaibm.self\\metacommunity_IBM.py:184\u001b[0m, in \u001b[0;36mhabitat.hab_initialize\u001b[1;34m(self, traits_num, pheno_names_ls, pheno_var_ls, geno_len_ls, reproduce_mode, species_2_phenotype_ls)\u001b[0m\n\u001b[0;32m    182\u001b[0m         indi_object \u001b[38;5;241m=\u001b[39m individual(species_id\u001b[38;5;241m=\u001b[39mspecies_id, traits_num\u001b[38;5;241m=\u001b[39mtraits_num, pheno_names_ls\u001b[38;5;241m=\u001b[39mpheno_names_ls, gender\u001b[38;5;241m=\u001b[39mgender)\n\u001b[0;32m    183\u001b[0m         indi_object\u001b[38;5;241m.\u001b[39mrandom_init_indi(mean_pheno_val_ls, pheno_var_ls, geno_len_ls)\n\u001b[1;32m--> 184\u001b[0m         \u001b[38;5;28mself\u001b[39m\u001b[38;5;241m.\u001b[39madd_individual(indi_object, row, col)\n\u001b[0;32m    185\u001b[0m \u001b[38;5;28;01mreturn\u001b[39;00m \u001b[38;5;241m0\u001b[39m\n",
      "File \u001b[1;32mc:\\Users\\pwy23\\Desktop\\metaibm\\metaibm.self\\metacommunity_IBM.py:82\u001b[0m, in \u001b[0;36mhabitat.add_individual\u001b[1;34m(self, indi_object, len_id, wid_id)\u001b[0m\n\u001b[0;32m     80\u001b[0m \u001b[38;5;28;01mdef\u001b[39;00m \u001b[38;5;21madd_individual\u001b[39m(\u001b[38;5;28mself\u001b[39m, indi_object, len_id, wid_id):\n\u001b[0;32m     81\u001b[0m     same_species_position\u001b[38;5;241m=\u001b[39m[]\n\u001b[1;32m---> 82\u001b[0m     \u001b[38;5;28;01mfor\u001b[39;00m i \u001b[38;5;129;01min\u001b[39;00m \u001b[38;5;28mself\u001b[39m\u001b[38;5;241m.\u001b[39mspecies_category[indi_object\u001b[38;5;241m.\u001b[39mspecies_id]\u001b[38;5;241m.\u001b[39mkeys():\n\u001b[0;32m     83\u001b[0m         same_species_position\u001b[38;5;241m.\u001b[39mextend(\u001b[38;5;28mself\u001b[39m\u001b[38;5;241m.\u001b[39mspecies_category[indi_object\u001b[38;5;241m.\u001b[39mspecies_id][i])\n\u001b[0;32m     85\u001b[0m     distance\u001b[38;5;241m=\u001b[39m[]\n",
      "\u001b[1;31mKeyError\u001b[0m: 'sp1'"
     ]
    }
   ],
   "source": [
    "mainland.meta_initialize(traits_num=2, pheno_names_ls=('x_axis_phenotype', 'y_axis_phenotype'), pheno_var_ls=(0.025, 0.025), geno_len_ls=(20, 20), reproduce_mode='asexual', species_2_phenotype_ls=species_2_phenotype_ls)"
   ]
  }
 ],
 "metadata": {
  "kernelspec": {
   "display_name": "base",
   "language": "python",
   "name": "python3"
  },
  "language_info": {
   "codemirror_mode": {
    "name": "ipython",
    "version": 3
   },
   "file_extension": ".py",
   "mimetype": "text/x-python",
   "name": "python",
   "nbconvert_exporter": "python",
   "pygments_lexer": "ipython3",
   "version": "3.11.5"
  }
 },
 "nbformat": 4,
 "nbformat_minor": 2
}
