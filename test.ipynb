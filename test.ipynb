{
 "cells": [
  {
   "cell_type": "code",
   "execution_count": 1,
   "metadata": {},
   "outputs": [],
   "source": [
    "import metacommunity_IBM as metaIBM\n",
    "from metacommunity_IBM import patch\n",
    "from metacommunity_IBM import metacommunity"
   ]
  },
  {
   "cell_type": "code",
   "execution_count": 2,
   "metadata": {},
   "outputs": [],
   "source": [
    "from tqdm import tqdm"
   ]
  },
  {
   "cell_type": "code",
   "execution_count": 3,
   "metadata": {},
   "outputs": [],
   "source": [
    "import os\n",
    "import time\n",
    "\n",
    "import numpy as np\n",
    "import matplotlib.pyplot as plt\n",
    "from matplotlib.colors import ListedColormap"
   ]
  },
  {
   "cell_type": "code",
   "execution_count": 4,
   "metadata": {},
   "outputs": [],
   "source": [
    "def generate_empty_mainland(meta_name, patch_num, patch_location_ls, hab_num, hab_length, hab_width, \n",
    "                            dormancy_pool_max_size, x_axis_environment_values_ls, y_axis_environment_values_ls, \n",
    "                            environment_types_num, environment_types_name, environment_variation_ls,baseline_jce,decay_jce):\n",
    "    log_info = 'generating empty mainland ... \\n'\n",
    "    meta_object = metacommunity(metacommunity_name=meta_name)\n",
    "    for i in range(0, patch_num):\n",
    "        patch_name = 'patch%d'%(i)\n",
    "        patch_index = i\n",
    "        location = patch_location_ls[i]\n",
    "        patch_x_loc, patch_y_loc = location[0], location[1]\n",
    "        p = patch(patch_name, patch_index, location)\n",
    "        \n",
    "        hab_num_length, hab_num_width = int(np.sqrt(hab_num)), int(np.sqrt(hab_num))\n",
    "        \n",
    "        for j in range(hab_num):\n",
    "            habitat_name = 'h%s'%str(j)\n",
    "            hab_index = j\n",
    "            \n",
    "            hab_x_loc, hab_y_loc = patch_x_loc*hab_num_length+j//hab_num_width, patch_y_loc*hab_num_width+j%hab_num_width\n",
    "            hab_location = (hab_x_loc, hab_y_loc)\n",
    "            \n",
    "            micro_environment_mean_value = x_axis_environment_values_ls[j//hab_num_width]\n",
    "            macro_environment_mean_value = y_axis_environment_values_ls[j%hab_num_width]\n",
    "            \n",
    "            p.add_habitat(hab_name=habitat_name, hab_index=hab_index, hab_location=hab_location, num_env_types=environment_types_num, env_types_name=environment_types_name, \n",
    "                          mean_env_ls=[micro_environment_mean_value, macro_environment_mean_value], var_env_ls=environment_variation_ls, length=hab_length, width=hab_width,\n",
    "                            dormancy_pool_max_size=dormancy_pool_max_size,a = baseline_jce, v = decay_jce)\n",
    "            \n",
    "            info = '%s: %s, %s, %s, %s: x_axis_environment_mean_value=%s, y_axis_environment_mean_value=%s \\n'%(meta_object.metacommunity_name, patch_name, str(location), habitat_name, str(hab_location), str(micro_environment_mean_value), str(macro_environment_mean_value))\n",
    "            log_info = log_info + info\n",
    "        meta_object.add_patch(patch_name=patch_name, patch_object=p)\n",
    "    #print(log_info)\n",
    "    return meta_object, log_info"
   ]
  },
  {
   "cell_type": "markdown",
   "metadata": {},
   "source": [
    "# 创建一个空的mainland"
   ]
  },
  {
   "cell_type": "code",
   "execution_count": 5,
   "metadata": {},
   "outputs": [],
   "source": [
    "mainland, log_info = generate_empty_mainland(meta_name='mainland', patch_num=1, patch_location_ls=[(0,0)], \n",
    "                                             hab_num=100, hab_length=20, hab_width=20, dormancy_pool_max_size=0, \n",
    "                                             x_axis_environment_values_ls=[0.0,0.1,0.2,0.3,0.4,0.5,0.6,0.7,0.8,0.9], \n",
    "                                             y_axis_environment_values_ls=[0.0,0.1,0.2,0.3,0.4,0.5,0.6,0.7,0.8,0.9], \n",
    "                                             environment_types_num=2, environment_types_name=('x_axis_environment', 'y_axis_environment'), \n",
    "                                             environment_variation_ls=[0.025, 0.025],baseline_jce = 0.51,decay_jce = 5)"
   ]
  },
  {
   "cell_type": "markdown",
   "metadata": {},
   "source": [
    "基线死亡率=0.51，衰减率=5"
   ]
  },
  {
   "cell_type": "code",
   "execution_count": 6,
   "metadata": {},
   "outputs": [
    {
     "name": "stdout",
     "output_type": "stream",
     "text": [
      "generating empty mainland ... \n",
      "mainland: patch0, (0, 0), h0, (0, 0): x_axis_environment_mean_value=0.0, y_axis_environment_mean_value=0.0 \n",
      "mainland: patch0, (0, 0), h1, (0, 1): x_axis_environment_mean_value=0.0, y_axis_environment_mean_value=0.1 \n",
      "mainland: patch0, (0, 0), h2, (0, 2): x_axis_environment_mean_value=0.0, y_axis_environment_mean_value=0.2 \n",
      "mainland: patch0, (0, 0), h3, (0, 3): x_axis_environment_mean_value=0.0, y_axis_environment_mean_value=0.3 \n",
      "mainland: patch0, (0, 0), h4, (0, 4): x_axis_environment_mean_value=0.0, y_axis_environment_mean_value=0.4 \n",
      "mainland: patch0, (0, 0), h5, (0, 5): x_axis_environment_mean_value=0.0, y_axis_environment_mean_value=0.5 \n",
      "mainland: patch0, (0, 0), h6, (0, 6): x_axis_environment_mean_value=0.0, y_axis_environment_mean_value=0.6 \n",
      "mainland: patch0, (0, 0), h7, (0, 7): x_axis_environment_mean_value=0.0, y_axis_environment_mean_value=0.7 \n",
      "mainland: patch0, (0, 0), h8, (0, 8): x_axis_environment_mean_value=0.0, y_axis_environment_mean_value=0.8 \n",
      "mainland: patch0, (0, 0), h9, (0, 9): x_axis_environment_mean_value=0.0, y_axis_environment_mean_value=0.9 \n",
      "mainland: patch0, (0, 0), h10, (1, 0): x_axis_environment_mean_value=0.1, y_axis_environment_mean_value=0.0 \n",
      "mainland: patch0, (0, 0), h11, (1, 1): x_axis_environment_mean_value=0.1, y_axis_environment_mean_value=0.1 \n",
      "mainland: patch0, (0, 0), h12, (1, 2): x_axis_environment_mean_value=0.1, y_axis_environment_mean_value=0.2 \n",
      "mainland: patch0, (0, 0), h13, (1, 3): x_axis_environment_mean_value=0.1, y_axis_environment_mean_value=0.3 \n",
      "mainland: patch0, (0, 0), h14, (1, 4): x_axis_environment_mean_value=0.1, y_axis_environment_mean_value=0.4 \n",
      "mainland: patch0, (0, 0), h15, (1, 5): x_axis_environment_mean_value=0.1, y_axis_environment_mean_value=0.5 \n",
      "mainland: patch0, (0, 0), h16, (1, 6): x_axis_environment_mean_value=0.1, y_axis_environment_mean_value=0.6 \n",
      "mainland: patch0, (0, 0), h17, (1, 7): x_axis_environment_mean_value=0.1, y_axis_environment_mean_value=0.7 \n",
      "mainland: patch0, (0, 0), h18, (1, 8): x_axis_environment_mean_value=0.1, y_axis_environment_mean_value=0.8 \n",
      "mainland: patch0, (0, 0), h19, (1, 9): x_axis_environment_mean_value=0.1, y_axis_environment_mean_value=0.9 \n",
      "mainland: patch0, (0, 0), h20, (2, 0): x_axis_environment_mean_value=0.2, y_axis_environment_mean_value=0.0 \n",
      "mainland: patch0, (0, 0), h21, (2, 1): x_axis_environment_mean_value=0.2, y_axis_environment_mean_value=0.1 \n",
      "mainland: patch0, (0, 0), h22, (2, 2): x_axis_environment_mean_value=0.2, y_axis_environment_mean_value=0.2 \n",
      "mainland: patch0, (0, 0), h23, (2, 3): x_axis_environment_mean_value=0.2, y_axis_environment_mean_value=0.3 \n",
      "mainland: patch0, (0, 0), h24, (2, 4): x_axis_environment_mean_value=0.2, y_axis_environment_mean_value=0.4 \n",
      "mainland: patch0, (0, 0), h25, (2, 5): x_axis_environment_mean_value=0.2, y_axis_environment_mean_value=0.5 \n",
      "mainland: patch0, (0, 0), h26, (2, 6): x_axis_environment_mean_value=0.2, y_axis_environment_mean_value=0.6 \n",
      "mainland: patch0, (0, 0), h27, (2, 7): x_axis_environment_mean_value=0.2, y_axis_environment_mean_value=0.7 \n",
      "mainland: patch0, (0, 0), h28, (2, 8): x_axis_environment_mean_value=0.2, y_axis_environment_mean_value=0.8 \n",
      "mainland: patch0, (0, 0), h29, (2, 9): x_axis_environment_mean_value=0.2, y_axis_environment_mean_value=0.9 \n",
      "mainland: patch0, (0, 0), h30, (3, 0): x_axis_environment_mean_value=0.3, y_axis_environment_mean_value=0.0 \n",
      "mainland: patch0, (0, 0), h31, (3, 1): x_axis_environment_mean_value=0.3, y_axis_environment_mean_value=0.1 \n",
      "mainland: patch0, (0, 0), h32, (3, 2): x_axis_environment_mean_value=0.3, y_axis_environment_mean_value=0.2 \n",
      "mainland: patch0, (0, 0), h33, (3, 3): x_axis_environment_mean_value=0.3, y_axis_environment_mean_value=0.3 \n",
      "mainland: patch0, (0, 0), h34, (3, 4): x_axis_environment_mean_value=0.3, y_axis_environment_mean_value=0.4 \n",
      "mainland: patch0, (0, 0), h35, (3, 5): x_axis_environment_mean_value=0.3, y_axis_environment_mean_value=0.5 \n",
      "mainland: patch0, (0, 0), h36, (3, 6): x_axis_environment_mean_value=0.3, y_axis_environment_mean_value=0.6 \n",
      "mainland: patch0, (0, 0), h37, (3, 7): x_axis_environment_mean_value=0.3, y_axis_environment_mean_value=0.7 \n",
      "mainland: patch0, (0, 0), h38, (3, 8): x_axis_environment_mean_value=0.3, y_axis_environment_mean_value=0.8 \n",
      "mainland: patch0, (0, 0), h39, (3, 9): x_axis_environment_mean_value=0.3, y_axis_environment_mean_value=0.9 \n",
      "mainland: patch0, (0, 0), h40, (4, 0): x_axis_environment_mean_value=0.4, y_axis_environment_mean_value=0.0 \n",
      "mainland: patch0, (0, 0), h41, (4, 1): x_axis_environment_mean_value=0.4, y_axis_environment_mean_value=0.1 \n",
      "mainland: patch0, (0, 0), h42, (4, 2): x_axis_environment_mean_value=0.4, y_axis_environment_mean_value=0.2 \n",
      "mainland: patch0, (0, 0), h43, (4, 3): x_axis_environment_mean_value=0.4, y_axis_environment_mean_value=0.3 \n",
      "mainland: patch0, (0, 0), h44, (4, 4): x_axis_environment_mean_value=0.4, y_axis_environment_mean_value=0.4 \n",
      "mainland: patch0, (0, 0), h45, (4, 5): x_axis_environment_mean_value=0.4, y_axis_environment_mean_value=0.5 \n",
      "mainland: patch0, (0, 0), h46, (4, 6): x_axis_environment_mean_value=0.4, y_axis_environment_mean_value=0.6 \n",
      "mainland: patch0, (0, 0), h47, (4, 7): x_axis_environment_mean_value=0.4, y_axis_environment_mean_value=0.7 \n",
      "mainland: patch0, (0, 0), h48, (4, 8): x_axis_environment_mean_value=0.4, y_axis_environment_mean_value=0.8 \n",
      "mainland: patch0, (0, 0), h49, (4, 9): x_axis_environment_mean_value=0.4, y_axis_environment_mean_value=0.9 \n",
      "mainland: patch0, (0, 0), h50, (5, 0): x_axis_environment_mean_value=0.5, y_axis_environment_mean_value=0.0 \n",
      "mainland: patch0, (0, 0), h51, (5, 1): x_axis_environment_mean_value=0.5, y_axis_environment_mean_value=0.1 \n",
      "mainland: patch0, (0, 0), h52, (5, 2): x_axis_environment_mean_value=0.5, y_axis_environment_mean_value=0.2 \n",
      "mainland: patch0, (0, 0), h53, (5, 3): x_axis_environment_mean_value=0.5, y_axis_environment_mean_value=0.3 \n",
      "mainland: patch0, (0, 0), h54, (5, 4): x_axis_environment_mean_value=0.5, y_axis_environment_mean_value=0.4 \n",
      "mainland: patch0, (0, 0), h55, (5, 5): x_axis_environment_mean_value=0.5, y_axis_environment_mean_value=0.5 \n",
      "mainland: patch0, (0, 0), h56, (5, 6): x_axis_environment_mean_value=0.5, y_axis_environment_mean_value=0.6 \n",
      "mainland: patch0, (0, 0), h57, (5, 7): x_axis_environment_mean_value=0.5, y_axis_environment_mean_value=0.7 \n",
      "mainland: patch0, (0, 0), h58, (5, 8): x_axis_environment_mean_value=0.5, y_axis_environment_mean_value=0.8 \n",
      "mainland: patch0, (0, 0), h59, (5, 9): x_axis_environment_mean_value=0.5, y_axis_environment_mean_value=0.9 \n",
      "mainland: patch0, (0, 0), h60, (6, 0): x_axis_environment_mean_value=0.6, y_axis_environment_mean_value=0.0 \n",
      "mainland: patch0, (0, 0), h61, (6, 1): x_axis_environment_mean_value=0.6, y_axis_environment_mean_value=0.1 \n",
      "mainland: patch0, (0, 0), h62, (6, 2): x_axis_environment_mean_value=0.6, y_axis_environment_mean_value=0.2 \n",
      "mainland: patch0, (0, 0), h63, (6, 3): x_axis_environment_mean_value=0.6, y_axis_environment_mean_value=0.3 \n",
      "mainland: patch0, (0, 0), h64, (6, 4): x_axis_environment_mean_value=0.6, y_axis_environment_mean_value=0.4 \n",
      "mainland: patch0, (0, 0), h65, (6, 5): x_axis_environment_mean_value=0.6, y_axis_environment_mean_value=0.5 \n",
      "mainland: patch0, (0, 0), h66, (6, 6): x_axis_environment_mean_value=0.6, y_axis_environment_mean_value=0.6 \n",
      "mainland: patch0, (0, 0), h67, (6, 7): x_axis_environment_mean_value=0.6, y_axis_environment_mean_value=0.7 \n",
      "mainland: patch0, (0, 0), h68, (6, 8): x_axis_environment_mean_value=0.6, y_axis_environment_mean_value=0.8 \n",
      "mainland: patch0, (0, 0), h69, (6, 9): x_axis_environment_mean_value=0.6, y_axis_environment_mean_value=0.9 \n",
      "mainland: patch0, (0, 0), h70, (7, 0): x_axis_environment_mean_value=0.7, y_axis_environment_mean_value=0.0 \n",
      "mainland: patch0, (0, 0), h71, (7, 1): x_axis_environment_mean_value=0.7, y_axis_environment_mean_value=0.1 \n",
      "mainland: patch0, (0, 0), h72, (7, 2): x_axis_environment_mean_value=0.7, y_axis_environment_mean_value=0.2 \n",
      "mainland: patch0, (0, 0), h73, (7, 3): x_axis_environment_mean_value=0.7, y_axis_environment_mean_value=0.3 \n",
      "mainland: patch0, (0, 0), h74, (7, 4): x_axis_environment_mean_value=0.7, y_axis_environment_mean_value=0.4 \n",
      "mainland: patch0, (0, 0), h75, (7, 5): x_axis_environment_mean_value=0.7, y_axis_environment_mean_value=0.5 \n",
      "mainland: patch0, (0, 0), h76, (7, 6): x_axis_environment_mean_value=0.7, y_axis_environment_mean_value=0.6 \n",
      "mainland: patch0, (0, 0), h77, (7, 7): x_axis_environment_mean_value=0.7, y_axis_environment_mean_value=0.7 \n",
      "mainland: patch0, (0, 0), h78, (7, 8): x_axis_environment_mean_value=0.7, y_axis_environment_mean_value=0.8 \n",
      "mainland: patch0, (0, 0), h79, (7, 9): x_axis_environment_mean_value=0.7, y_axis_environment_mean_value=0.9 \n",
      "mainland: patch0, (0, 0), h80, (8, 0): x_axis_environment_mean_value=0.8, y_axis_environment_mean_value=0.0 \n",
      "mainland: patch0, (0, 0), h81, (8, 1): x_axis_environment_mean_value=0.8, y_axis_environment_mean_value=0.1 \n",
      "mainland: patch0, (0, 0), h82, (8, 2): x_axis_environment_mean_value=0.8, y_axis_environment_mean_value=0.2 \n",
      "mainland: patch0, (0, 0), h83, (8, 3): x_axis_environment_mean_value=0.8, y_axis_environment_mean_value=0.3 \n",
      "mainland: patch0, (0, 0), h84, (8, 4): x_axis_environment_mean_value=0.8, y_axis_environment_mean_value=0.4 \n",
      "mainland: patch0, (0, 0), h85, (8, 5): x_axis_environment_mean_value=0.8, y_axis_environment_mean_value=0.5 \n",
      "mainland: patch0, (0, 0), h86, (8, 6): x_axis_environment_mean_value=0.8, y_axis_environment_mean_value=0.6 \n",
      "mainland: patch0, (0, 0), h87, (8, 7): x_axis_environment_mean_value=0.8, y_axis_environment_mean_value=0.7 \n",
      "mainland: patch0, (0, 0), h88, (8, 8): x_axis_environment_mean_value=0.8, y_axis_environment_mean_value=0.8 \n",
      "mainland: patch0, (0, 0), h89, (8, 9): x_axis_environment_mean_value=0.8, y_axis_environment_mean_value=0.9 \n",
      "mainland: patch0, (0, 0), h90, (9, 0): x_axis_environment_mean_value=0.9, y_axis_environment_mean_value=0.0 \n",
      "mainland: patch0, (0, 0), h91, (9, 1): x_axis_environment_mean_value=0.9, y_axis_environment_mean_value=0.1 \n",
      "mainland: patch0, (0, 0), h92, (9, 2): x_axis_environment_mean_value=0.9, y_axis_environment_mean_value=0.2 \n",
      "mainland: patch0, (0, 0), h93, (9, 3): x_axis_environment_mean_value=0.9, y_axis_environment_mean_value=0.3 \n",
      "mainland: patch0, (0, 0), h94, (9, 4): x_axis_environment_mean_value=0.9, y_axis_environment_mean_value=0.4 \n",
      "mainland: patch0, (0, 0), h95, (9, 5): x_axis_environment_mean_value=0.9, y_axis_environment_mean_value=0.5 \n",
      "mainland: patch0, (0, 0), h96, (9, 6): x_axis_environment_mean_value=0.9, y_axis_environment_mean_value=0.6 \n",
      "mainland: patch0, (0, 0), h97, (9, 7): x_axis_environment_mean_value=0.9, y_axis_environment_mean_value=0.7 \n",
      "mainland: patch0, (0, 0), h98, (9, 8): x_axis_environment_mean_value=0.9, y_axis_environment_mean_value=0.8 \n",
      "mainland: patch0, (0, 0), h99, (9, 9): x_axis_environment_mean_value=0.9, y_axis_environment_mean_value=0.9 \n",
      "\n"
     ]
    }
   ],
   "source": [
    "print(log_info)"
   ]
  },
  {
   "cell_type": "markdown",
   "metadata": {},
   "source": [
    "生成100种基础物种[phenotype_x, phenotype_y]\n",
    "\n",
    "species_2_phenotype_ls 用于定义大陆所有物种的表型，其中 list 的索引是物种的索引。\n",
    "\n",
    "例如：\n",
    "species_2_phenotype_ls[i] 是 species_i 的 （'x_axis_phenotype'， 'y_axis_phenotype'）。"
   ]
  },
  {
   "cell_type": "code",
   "execution_count": 7,
   "metadata": {},
   "outputs": [
    {
     "name": "stdout",
     "output_type": "stream",
     "text": [
      "[[0.0, 0.0], [0.0, 0.1], [0.0, 0.2], [0.0, 0.3], [0.0, 0.4], [0.0, 0.5], [0.0, 0.6], [0.0, 0.7], [0.0, 0.8], [0.0, 0.9], [0.1, 0.0], [0.1, 0.1], [0.1, 0.2], [0.1, 0.3], [0.1, 0.4], [0.1, 0.5], [0.1, 0.6], [0.1, 0.7], [0.1, 0.8], [0.1, 0.9], [0.2, 0.0], [0.2, 0.1], [0.2, 0.2], [0.2, 0.3], [0.2, 0.4], [0.2, 0.5], [0.2, 0.6], [0.2, 0.7], [0.2, 0.8], [0.2, 0.9], [0.3, 0.0], [0.3, 0.1], [0.3, 0.2], [0.3, 0.3], [0.3, 0.4], [0.3, 0.5], [0.3, 0.6], [0.3, 0.7], [0.3, 0.8], [0.3, 0.9], [0.4, 0.0], [0.4, 0.1], [0.4, 0.2], [0.4, 0.3], [0.4, 0.4], [0.4, 0.5], [0.4, 0.6], [0.4, 0.7], [0.4, 0.8], [0.4, 0.9], [0.5, 0.0], [0.5, 0.1], [0.5, 0.2], [0.5, 0.3], [0.5, 0.4], [0.5, 0.5], [0.5, 0.6], [0.5, 0.7], [0.5, 0.8], [0.5, 0.9], [0.6, 0.0], [0.6, 0.1], [0.6, 0.2], [0.6, 0.3], [0.6, 0.4], [0.6, 0.5], [0.6, 0.6], [0.6, 0.7], [0.6, 0.8], [0.6, 0.9], [0.7, 0.0], [0.7, 0.1], [0.7, 0.2], [0.7, 0.3], [0.7, 0.4], [0.7, 0.5], [0.7, 0.6], [0.7, 0.7], [0.7, 0.8], [0.7, 0.9], [0.8, 0.0], [0.8, 0.1], [0.8, 0.2], [0.8, 0.3], [0.8, 0.4], [0.8, 0.5], [0.8, 0.6], [0.8, 0.7], [0.8, 0.8], [0.8, 0.9], [0.9, 0.0], [0.9, 0.1], [0.9, 0.2], [0.9, 0.3], [0.9, 0.4], [0.9, 0.5], [0.9, 0.6], [0.9, 0.7], [0.9, 0.8], [0.9, 0.9]]\n"
     ]
    }
   ],
   "source": [
    "species_2_phenotype_ls = [[i/10, j/10] for i in range(0,10) for j in range(0,10)]\n",
    "print(species_2_phenotype_ls)"
   ]
  },
  {
   "cell_type": "code",
   "execution_count": null,
   "metadata": {},
   "outputs": [],
   "source": []
  },
  {
   "cell_type": "code",
   "execution_count": 8,
   "metadata": {},
   "outputs": [
    {
     "data": {
      "text/plain": [
       "'mainland initialization done! \\n'"
      ]
     },
     "execution_count": 8,
     "metadata": {},
     "output_type": "execute_result"
    }
   ],
   "source": [
    "mainland.meta_initialize(traits_num=2, pheno_names_ls=('x_axis_phenotype', 'y_axis_phenotype'), pheno_var_ls=(0.025, 0.025), geno_len_ls=(20, 20), reproduce_mode='asexual', species_2_phenotype_ls=species_2_phenotype_ls)"
   ]
  },
  {
   "cell_type": "code",
   "execution_count": 9,
   "metadata": {},
   "outputs": [
    {
     "data": {
      "text/plain": [
       "0"
      ]
     },
     "execution_count": 9,
     "metadata": {},
     "output_type": "execute_result"
    },
    {
     "data": {
      "text/plain": [
       "<Figure size 4000x4000 with 0 Axes>"
      ]
     },
     "metadata": {},
     "output_type": "display_data"
    }
   ],
   "source": [
    "mainland.meta_show_species_distribution(sub_row=1, sub_col=1, hab_num_x_axis_in_patch=10, hab_num_y_axis_in_patch=10, hab_y_len=20, hab_x_len=20, vmin=1, vmax=100, cmap=plt.get_cmap('gist_rainbow'), file_name='mainland_sp_dis_after_initilization.jpg')"
   ]
  },
  {
   "cell_type": "code",
   "execution_count": 5,
   "metadata": {},
   "outputs": [],
   "source": [
    "def generating_empty_metacommunity(meta_name, patch_num, patch_location_ls, hab_num, hab_length, hab_width, dormancy_pool_max_size, \n",
    "                                   x_axis_environment_values_ls, y_axis_environment_values_ls, environment_types_num, environment_types_name, \n",
    "                                   environment_variation_ls, baseline_jce,decay_jce,is_heterogeneity=False,):\n",
    "    ''' '''\n",
    "    log_info = 'generating empty metacommunity ... \\n'\n",
    "    meta_object = metacommunity(metacommunity_name=meta_name)\n",
    "    patch_num_x_axis, patch_num_y_axis = int(np.sqrt(patch_num)), int(np.sqrt(patch_num))\n",
    "    hab_num_x_axis, hab_num_y_axis = int(np.sqrt(hab_num)), int(np.sqrt(hab_num))\n",
    "    \n",
    "    x_axis_env_num, y_axis_env_num = len(x_axis_environment_values_ls), len(y_axis_environment_values_ls)\n",
    "    \n",
    "    for i in range(0, patch_num):\n",
    "        patch_name = 'patch%d'%(i+1)\n",
    "        patch_index = i\n",
    "        location = patch_location_ls[i]\n",
    "        p = patch(patch_name, patch_index, location)\n",
    "        \n",
    "        patch_x_loc, patch_y_loc = location[0], location[1]\n",
    "\n",
    "        for j in range(hab_num):\n",
    "            habitat_name = 'h%s'%str(j)\n",
    "            hab_index = j\n",
    "            \n",
    "            hab_x_loc, hab_y_loc = patch_x_loc*hab_num_x_axis+j//hab_num_y_axis, patch_y_loc*hab_num_y_axis+j%hab_num_y_axis\n",
    "            hab_location = (hab_x_loc, hab_y_loc)\n",
    "            \n",
    "            if is_heterogeneity==False:\n",
    "                x_axis_environment_means_value = x_axis_environment_values_ls[int(hab_x_loc*x_axis_env_num/(patch_num_x_axis*hab_num_x_axis))%x_axis_env_num]\n",
    "                y_axis_environment_means_value = y_axis_environment_values_ls[int(hab_y_loc*y_axis_env_num/(patch_num_y_axis*hab_num_y_axis))%y_axis_env_num]\n",
    "            elif is_heterogeneity==True:\n",
    "                x_axis_min, x_axis_max = x_axis_environment_values_ls[0], x_axis_environment_values_ls[1]\n",
    "                y_axis_min, y_axis_max = y_axis_environment_values_ls[0], y_axis_environment_values_ls[1]\n",
    "                \n",
    "                x_step = (x_axis_max - x_axis_min)/(patch_num_x_axis*hab_num_x_axis)\n",
    "                y_step = (y_axis_max - y_axis_min)/(patch_num_y_axis*hab_num_y_axis)\n",
    "                \n",
    "                x_axis_environment_means_value = x_axis_min+1/2*x_step + x_step*hab_x_loc\n",
    "                y_axis_environment_means_value = y_axis_min+1/2*y_step + y_step*hab_y_loc\n",
    "                \n",
    "            p.add_habitat(hab_name=habitat_name, hab_index=hab_index, hab_location=hab_location, num_env_types=environment_types_num, env_types_name=environment_types_name, \n",
    "                          mean_env_ls=[x_axis_environment_means_value, y_axis_environment_means_value], var_env_ls=environment_variation_ls, length=hab_length, width=hab_width, dormancy_pool_max_size=dormancy_pool_max_size,a = baseline_jce, v = decay_jce)\n",
    "            \n",
    "            info = '%s: %s, %s, %s, %s: x_axis_environment_value=%s, y_axis_environment_value=%s'%(meta_object.metacommunity_name, patch_name, str(location), habitat_name, str(hab_location), str(x_axis_environment_means_value), str(y_axis_environment_means_value))\n",
    "            log_info = log_info + info + '\\n'\n",
    "        meta_object.add_patch(patch_name=patch_name, patch_object=p)\n",
    "    #print(log_info)\n",
    "    return meta_object, log_info"
   ]
  },
  {
   "cell_type": "code",
   "execution_count": 11,
   "metadata": {},
   "outputs": [
    {
     "name": "stdout",
     "output_type": "stream",
     "text": [
      "[(0, 0)]\n"
     ]
    }
   ],
   "source": [
    "patch_location_ls = [(i,j) for i in range(1) for j in range(1)]\n",
    "print(patch_location_ls)"
   ]
  },
  {
   "cell_type": "code",
   "execution_count": 12,
   "metadata": {},
   "outputs": [],
   "source": [
    "x_axis_environment_values_ls = [0.0,0.1,0.2,0.3,0.4,0.5,0.6,0.7,0.8,0.9]"
   ]
  },
  {
   "cell_type": "code",
   "execution_count": 13,
   "metadata": {},
   "outputs": [],
   "source": [
    "y_axis_environment_values_ls = [0.0,0.1,0.2,0.3,0.4,0.5,0.6,0.7,0.8,0.9]"
   ]
  },
  {
   "cell_type": "code",
   "execution_count": 22,
   "metadata": {},
   "outputs": [],
   "source": [
    "meta_obj, log_info = generating_empty_metacommunity(meta_name='metacommunity', patch_num=1, \n",
    "patch_location_ls=patch_location_ls, hab_num=16, hab_length=16, hab_width=16, dormancy_pool_max_size=0, \n",
    "x_axis_environment_values_ls=x_axis_environment_values_ls, y_axis_environment_values_ls=y_axis_environment_values_ls, \n",
    "environment_types_num=2, environment_types_name=('x_axis_environment', 'y_axis_environment'), environment_variation_ls=[0.025, 0.025],baseline_jce = 0.51,decay_jce = 5)"
   ]
  },
  {
   "cell_type": "code",
   "execution_count": 23,
   "metadata": {},
   "outputs": [
    {
     "name": "stdout",
     "output_type": "stream",
     "text": [
      "generating empty metacommunity ... \n",
      "metacommunity: patch1, (0, 0), h0, (0, 0): x_axis_environment_value=0.0, y_axis_environment_value=0.0\n",
      "metacommunity: patch1, (0, 0), h1, (0, 1): x_axis_environment_value=0.0, y_axis_environment_value=0.2\n",
      "metacommunity: patch1, (0, 0), h2, (0, 2): x_axis_environment_value=0.0, y_axis_environment_value=0.5\n",
      "metacommunity: patch1, (0, 0), h3, (0, 3): x_axis_environment_value=0.0, y_axis_environment_value=0.7\n",
      "metacommunity: patch1, (0, 0), h4, (1, 0): x_axis_environment_value=0.2, y_axis_environment_value=0.0\n",
      "metacommunity: patch1, (0, 0), h5, (1, 1): x_axis_environment_value=0.2, y_axis_environment_value=0.2\n",
      "metacommunity: patch1, (0, 0), h6, (1, 2): x_axis_environment_value=0.2, y_axis_environment_value=0.5\n",
      "metacommunity: patch1, (0, 0), h7, (1, 3): x_axis_environment_value=0.2, y_axis_environment_value=0.7\n",
      "metacommunity: patch1, (0, 0), h8, (2, 0): x_axis_environment_value=0.5, y_axis_environment_value=0.0\n",
      "metacommunity: patch1, (0, 0), h9, (2, 1): x_axis_environment_value=0.5, y_axis_environment_value=0.2\n",
      "metacommunity: patch1, (0, 0), h10, (2, 2): x_axis_environment_value=0.5, y_axis_environment_value=0.5\n",
      "metacommunity: patch1, (0, 0), h11, (2, 3): x_axis_environment_value=0.5, y_axis_environment_value=0.7\n",
      "metacommunity: patch1, (0, 0), h12, (3, 0): x_axis_environment_value=0.7, y_axis_environment_value=0.0\n",
      "metacommunity: patch1, (0, 0), h13, (3, 1): x_axis_environment_value=0.7, y_axis_environment_value=0.2\n",
      "metacommunity: patch1, (0, 0), h14, (3, 2): x_axis_environment_value=0.7, y_axis_environment_value=0.5\n",
      "metacommunity: patch1, (0, 0), h15, (3, 3): x_axis_environment_value=0.7, y_axis_environment_value=0.7\n",
      "\n"
     ]
    }
   ],
   "source": [
    "print(log_info)"
   ]
  },
  {
   "cell_type": "code",
   "execution_count": 28,
   "metadata": {},
   "outputs": [
    {
     "data": {
      "text/plain": [
       "0"
      ]
     },
     "execution_count": 28,
     "metadata": {},
     "output_type": "execute_result"
    },
    {
     "data": {
      "text/plain": [
       "<Figure size 4000x4000 with 0 Axes>"
      ]
     },
     "metadata": {},
     "output_type": "display_data"
    }
   ],
   "source": [
    "meta_obj.meta_show_environment_distribution(environment_name='x_axis_environment', sub_row=1, sub_col=1, hab_num_x_axis_in_patch=4, hab_num_y_axis_in_patch=4, hab_y_len=16, hab_x_len=16, mask_loc=None, cmap=plt.get_cmap('Blues'), file_name='metacommunity_x_axis_environment.jpg')"
   ]
  },
  {
   "cell_type": "code",
   "execution_count": 29,
   "metadata": {},
   "outputs": [
    {
     "data": {
      "text/plain": [
       "0"
      ]
     },
     "execution_count": 29,
     "metadata": {},
     "output_type": "execute_result"
    },
    {
     "data": {
      "text/plain": [
       "<Figure size 4000x4000 with 0 Axes>"
      ]
     },
     "metadata": {},
     "output_type": "display_data"
    }
   ],
   "source": [
    "meta_obj.meta_show_environment_distribution(environment_name='y_axis_environment', sub_row=1, sub_col=1, hab_num_x_axis_in_patch=4, hab_num_y_axis_in_patch=4, hab_y_len=16, hab_x_len=16, mask_loc=None, cmap=plt.get_cmap('Greens'), file_name='metacommunity_y_axis_environment.jpg')"
   ]
  },
  {
   "cell_type": "code",
   "execution_count": 30,
   "metadata": {},
   "outputs": [],
   "source": [
    "time_step = 0"
   ]
  },
  {
   "cell_type": "code",
   "execution_count": 31,
   "metadata": {},
   "outputs": [
    {
     "data": {
      "text/plain": [
       "0"
      ]
     },
     "execution_count": 31,
     "metadata": {},
     "output_type": "execute_result"
    },
    {
     "data": {
      "text/plain": [
       "<Figure size 4000x4000 with 0 Axes>"
      ]
     },
     "metadata": {},
     "output_type": "display_data"
    }
   ],
   "source": [
    "meta_obj.meta_show_species_distribution(sub_row=1, sub_col=1, hab_num_x_axis_in_patch=4, hab_num_y_axis_in_patch=4, hab_y_len=16, hab_x_len=16, vmin=1, vmax=100, cmap=plt.get_cmap('gist_rainbow'), file_name='time_step=%d-metacommunity_sp_dis.jpg'%(time_step))"
   ]
  },
  {
   "cell_type": "code",
   "execution_count": 32,
   "metadata": {},
   "outputs": [],
   "source": [
    "log_info = mainland.meta_dead_selection(base_dead_rate=0.1, fitness_wid=0.5, method='niche_gaussian')"
   ]
  },
  {
   "cell_type": "code",
   "execution_count": 33,
   "metadata": {},
   "outputs": [
    {
     "name": "stdout",
     "output_type": "stream",
     "text": [
      "[Dead selection] in mainland: there are 512 individuals dead in selection; there are 4098 individuals in the mainland; there are 35902 empty sites in the mainland \n",
      "\n"
     ]
    }
   ],
   "source": [
    "print(log_info)"
   ]
  },
  {
   "cell_type": "code",
   "execution_count": 34,
   "metadata": {},
   "outputs": [
    {
     "data": {
      "text/plain": [
       "0"
      ]
     },
     "execution_count": 34,
     "metadata": {},
     "output_type": "execute_result"
    },
    {
     "data": {
      "text/plain": [
       "<Figure size 4000x4000 with 0 Axes>"
      ]
     },
     "metadata": {},
     "output_type": "display_data"
    }
   ],
   "source": [
    "mainland.meta_show_species_distribution(sub_row=1, sub_col=1, hab_num_x_axis_in_patch=10, hab_num_y_axis_in_patch=10, hab_y_len=20, hab_x_len=20, vmin=1, vmax=100, cmap=plt.get_cmap('gist_rainbow'), file_name='mainland_sp_dis_after_natural_selection.jpg')"
   ]
  },
  {
   "cell_type": "code",
   "execution_count": 35,
   "metadata": {},
   "outputs": [],
   "source": [
    "log_info = mainland.meta_mainland_asexual_birth_mutate_germinate(asexual_birth_rate=0.5, mutation_rate=0, pheno_var_ls=(0.025, 0.025))"
   ]
  },
  {
   "cell_type": "code",
   "execution_count": 36,
   "metadata": {},
   "outputs": [
    {
     "name": "stdout",
     "output_type": "stream",
     "text": [
      "[Birth process] in mainland: there are 2022 individuals germinating from local habitat; there are 4160 individuals in the mainland; there are 35840 empty sites in the mainland \n",
      "\n"
     ]
    }
   ],
   "source": [
    "print(log_info)"
   ]
  },
  {
   "cell_type": "code",
   "execution_count": 37,
   "metadata": {},
   "outputs": [
    {
     "data": {
      "text/plain": [
       "0"
      ]
     },
     "execution_count": 37,
     "metadata": {},
     "output_type": "execute_result"
    },
    {
     "data": {
      "text/plain": [
       "<Figure size 4000x4000 with 0 Axes>"
      ]
     },
     "metadata": {},
     "output_type": "display_data"
    }
   ],
   "source": [
    "mainland.meta_show_species_distribution(sub_row=1, sub_col=1, hab_num_x_axis_in_patch=10, hab_num_y_axis_in_patch=10, hab_y_len=20, hab_x_len=20, vmin=1, vmax=100, cmap=plt.get_cmap('gist_rainbow'), file_name='mainland_sp_dis_after_reproduction_and_germination.jpg')"
   ]
  },
  {
   "cell_type": "code",
   "execution_count": 38,
   "metadata": {},
   "outputs": [],
   "source": [
    "log_info = meta_obj.meta_colonize_from_propagules_rains(mainland_obj=mainland, propagules_rain_num=40)"
   ]
  },
  {
   "cell_type": "code",
   "execution_count": 39,
   "metadata": {},
   "outputs": [
    {
     "name": "stdout",
     "output_type": "stream",
     "text": [
      "[Colonization process]: there are 40 individuals colonizing the metacommunity from mainland; there are 40 individuals in the metacommunity; there are 4056 empty sites in the metacommunity \n",
      "\n"
     ]
    }
   ],
   "source": [
    "print(log_info)"
   ]
  },
  {
   "cell_type": "code",
   "execution_count": 41,
   "metadata": {},
   "outputs": [
    {
     "data": {
      "text/plain": [
       "0"
      ]
     },
     "execution_count": 41,
     "metadata": {},
     "output_type": "execute_result"
    },
    {
     "data": {
      "text/plain": [
       "<Figure size 4000x4000 with 0 Axes>"
      ]
     },
     "metadata": {},
     "output_type": "display_data"
    }
   ],
   "source": [
    "meta_obj.meta_show_species_distribution(sub_row=1, sub_col=1, hab_num_x_axis_in_patch=4, hab_num_y_axis_in_patch=4, hab_y_len=16, hab_x_len=16, vmin=1, vmax=100, cmap=plt.get_cmap('gist_rainbow'), file_name='time_step=%d-metacommunity_sp_dis_after_colonization.jpg'%(time_step))"
   ]
  },
  {
   "cell_type": "code",
   "execution_count": 42,
   "metadata": {},
   "outputs": [],
   "source": [
    "log_info = meta_obj.meta_asex_reproduce_calculation_into_offspring_marker_pool(asexual_birth_rate=0.5)"
   ]
  },
  {
   "cell_type": "code",
   "execution_count": 43,
   "metadata": {},
   "outputs": [
    {
     "name": "stdout",
     "output_type": "stream",
     "text": [
      "[Reproduction into offspring_marker_pool] in metacommunity: there are 20 offspring_marker born into the offspring_marker_pool; there are 20 offspring_marker in the offspring_marker_pool \n",
      "\n"
     ]
    }
   ],
   "source": [
    "print(log_info)"
   ]
  },
  {
   "cell_type": "code",
   "execution_count": 44,
   "metadata": {},
   "outputs": [],
   "source": [
    "log_info = meta_obj.meta_dispersal_within_patch_from_offspring_marker_to_immigrant_marker_pool(disp_within_rate=0.1)"
   ]
  },
  {
   "cell_type": "code",
   "execution_count": 45,
   "metadata": {},
   "outputs": [
    {
     "name": "stdout",
     "output_type": "stream",
     "text": [
      "[Dispersal within process] in metacommunity: there are 4 offspring marker disperse into habs_immigrant_marker_pool within patches; there are 4 offspring marker in the immigrant marker pool in the metacommunity \n",
      "\n"
     ]
    }
   ],
   "source": [
    "print(log_info)"
   ]
  },
  {
   "cell_type": "code",
   "execution_count": 46,
   "metadata": {},
   "outputs": [],
   "source": [
    "log_info = meta_obj.dispersal_aomng_patches_from_offspring_marker_pool_to_immigrant_marker_pool(total_disp_among_rate=0.01)"
   ]
  },
  {
   "cell_type": "code",
   "execution_count": 47,
   "metadata": {},
   "outputs": [
    {
     "name": "stdout",
     "output_type": "stream",
     "text": [
      "[Dispersal among patches] in %s: patch_num < 2, there are 0 individuals disperse into habs_immigrant_marker_pool among patches \n",
      "\n"
     ]
    }
   ],
   "source": [
    "print(log_info)"
   ]
  },
  {
   "cell_type": "code",
   "execution_count": 48,
   "metadata": {},
   "outputs": [],
   "source": [
    "log_info = meta_obj.meta_local_germinate_and_birth_from_offspring_marker_and_immigrant_marker_pool(mutation_rate=0, pheno_var_ls=(0.025, 0.025))"
   ]
  },
  {
   "cell_type": "code",
   "execution_count": 49,
   "metadata": {},
   "outputs": [
    {
     "name": "stdout",
     "output_type": "stream",
     "text": [
      "[Germination & Birth process] metacommunity: there are 24 individuals germinating_and_birth from local offspring_marker_pool and immigrant_marker_pool in the local habitat; there are 61 individuals in the metacommunity; there are 4035 empty sites in the metacommunity \n",
      "\n"
     ]
    }
   ],
   "source": [
    "print(log_info)"
   ]
  },
  {
   "cell_type": "code",
   "execution_count": 51,
   "metadata": {},
   "outputs": [
    {
     "data": {
      "text/plain": [
       "0"
      ]
     },
     "execution_count": 51,
     "metadata": {},
     "output_type": "execute_result"
    },
    {
     "data": {
      "text/plain": [
       "<Figure size 4000x4000 with 0 Axes>"
      ]
     },
     "metadata": {},
     "output_type": "display_data"
    }
   ],
   "source": [
    "meta_obj.meta_show_species_distribution(sub_row=1, sub_col=1, hab_num_x_axis_in_patch=4, hab_num_y_axis_in_patch=4, hab_y_len=16, hab_x_len=16, vmin=1, vmax=100, cmap=plt.get_cmap('gist_rainbow'), file_name='time_step=%d-metacommunity_sp_dis_after_germination.jpg'%(time_step))"
   ]
  },
  {
   "cell_type": "code",
   "execution_count": 52,
   "metadata": {},
   "outputs": [],
   "source": [
    "log_info = meta_obj.meta_disturbance_process_in_patches(patch_dist_rate=0.00001)"
   ]
  },
  {
   "cell_type": "code",
   "execution_count": 53,
   "metadata": {},
   "outputs": [
    {
     "name": "stdout",
     "output_type": "stream",
     "text": [
      "[Disturbance process] occurred in [] \n",
      "\n"
     ]
    }
   ],
   "source": [
    "print(log_info)"
   ]
  },
  {
   "cell_type": "code",
   "execution_count": 54,
   "metadata": {},
   "outputs": [
    {
     "data": {
      "text/plain": [
       "'[Dead selection] in metacommunity: there are 43 individuals dead in selection; there are 18 individuals in the metacommunity; there are 4078 empty sites in the metacommunity \\n'"
      ]
     },
     "execution_count": 54,
     "metadata": {},
     "output_type": "execute_result"
    }
   ],
   "source": [
    "meta_obj.meta_dead_selection(base_dead_rate=0.1, fitness_wid=0.5, method='niche_gaussian')"
   ]
  },
  {
   "cell_type": "code",
   "execution_count": 56,
   "metadata": {},
   "outputs": [
    {
     "data": {
      "text/plain": [
       "0"
      ]
     },
     "execution_count": 56,
     "metadata": {},
     "output_type": "execute_result"
    },
    {
     "data": {
      "text/plain": [
       "<Figure size 4000x4000 with 0 Axes>"
      ]
     },
     "metadata": {},
     "output_type": "display_data"
    }
   ],
   "source": [
    "meta_obj.meta_show_species_distribution(sub_row=1, sub_col=1, hab_num_x_axis_in_patch=4, hab_num_y_axis_in_patch=4, hab_y_len=16, hab_x_len=16, vmin=1, vmax=100, cmap=plt.get_cmap('gist_rainbow'), file_name='time_step=%d-metacommunity_sp_dis_after_natural_selection.jpg'%(time_step))"
   ]
  },
  {
   "cell_type": "code",
   "execution_count": 57,
   "metadata": {},
   "outputs": [],
   "source": [
    "meta_obj.meta_clear_up_offspring_marker_and_immigrant_marker_pool()"
   ]
  },
  {
   "cell_type": "code",
   "execution_count": 63,
   "metadata": {},
   "outputs": [
    {
     "name": "stderr",
     "output_type": "stream",
     "text": [
      "100%|██████████| 500/500 [00:03<00:00, 166.65it/s]\n"
     ]
    }
   ],
   "source": [
    "for i in tqdm(range(500)):\n",
    "    log_info = meta_obj.dispersal_aomng_patches_from_offspring_marker_pool_to_immigrant_marker_pool(total_disp_among_rate=0.01)\n",
    "    log_info = meta_obj.meta_local_germinate_and_birth_from_offspring_marker_and_immigrant_marker_pool(mutation_rate=0, pheno_var_ls=(0.025, 0.025))\n",
    "    log_info = meta_obj.meta_disturbance_process_in_patches(patch_dist_rate=0.00001)\n",
    "    meta_obj.meta_dead_selection(base_dead_rate=0.1, fitness_wid=0.5, method='niche_gaussian')\n",
    "    meta_obj.meta_clear_up_offspring_marker_and_immigrant_marker_pool()\n",
    "    time_step = i"
   ]
  },
  {
   "cell_type": "code",
   "execution_count": 64,
   "metadata": {},
   "outputs": [
    {
     "data": {
      "text/plain": [
       "0"
      ]
     },
     "execution_count": 64,
     "metadata": {},
     "output_type": "execute_result"
    },
    {
     "data": {
      "text/plain": [
       "<Figure size 4000x4000 with 0 Axes>"
      ]
     },
     "metadata": {},
     "output_type": "display_data"
    }
   ],
   "source": [
    "meta_obj.meta_show_species_distribution(sub_row=1, sub_col=1, hab_num_x_axis_in_patch=4, hab_num_y_axis_in_patch=4, hab_y_len=16, hab_x_len=16, vmin=1, vmax=100, cmap=plt.get_cmap('gist_rainbow'), file_name='time_step=%d-metacommunity_sp_dis_after_natural_selection.jpg'%(time_step))"
   ]
  },
  {
   "cell_type": "code",
   "execution_count": 6,
   "metadata": {},
   "outputs": [],
   "source": [
    "############# this is not the main function, but it will be used in the main function ########################### \n",
    "def new_round(_float, _len = 0):\n",
    "    \"\"\"\n",
    "    Parameters\n",
    "    ----------\n",
    "    _float: float\n",
    "    _len: int, 指定四舍五入需要保留的小数点后几位数为_len\n",
    "\n",
    "    Returns\n",
    "    -------\n",
    "    type ==> float, 返回四舍五入后的值\n",
    "    \"\"\"\n",
    "    if isinstance(_float, float):\n",
    "        if str(_float)[::-1].find('.') <= _len:\n",
    "            return (_float)\n",
    "        if str(_float)[-1] == '5':\n",
    "            return (round(float(str(_float)[:-1] + '6'), _len))\n",
    "        else:\n",
    "            return (round(_float, _len))\n",
    "    else:\n",
    "        return (round(_float, _len))\n",
    "#################################################################################################################\n",
    "def mkdir_if_not_exist(reproduce_mode, patch_num, is_heterogeneity, disp_among_within_rate, patch_dist_rate):\n",
    "    root_path = os.getcwd()\n",
    "    \n",
    "    reproduce_mode_dir = {'asexual':'/asexual', 'sexual':'/sexual'}\n",
    "    patch_num_files_name = '/patch_num=%03d'%patch_num\n",
    "    is_heterogeneity_files_name = '/is_heterogeneity=%s'%str(is_heterogeneity)\n",
    "    disp_amomg_within_rate_files_name = '/disp_among=%f-disp_within=%f'%(disp_among_within_rate[0], disp_among_within_rate[1])\n",
    "    patch_dist_rate_files_name = '/patch_dist_rate=%f'%patch_dist_rate\n",
    "    \n",
    "    goal_path = root_path + reproduce_mode_dir[reproduce_mode] + patch_num_files_name + is_heterogeneity_files_name + disp_amomg_within_rate_files_name + patch_dist_rate_files_name\n",
    "    if os.path.exists(goal_path) == False:\n",
    "        os.makedirs(goal_path)\n",
    "    else:\n",
    "        pass\n",
    "    return goal_path\n",
    "################################################## logging module ########################################################################################\n",
    "def write_logger(log_info, is_logging=False, logger_file=None):\n",
    "    if is_logging == True:\n",
    "        print(log_info, file=logger_file)\n",
    "    elif is_logging == False:\n",
    "        print(log_info)"
   ]
  },
  {
   "cell_type": "code",
   "execution_count": null,
   "metadata": {},
   "outputs": [],
   "source": [
    "def main(rep, patch_num, reproduce_mode, total_disp_among_rate, disp_within_rate, patch_dist_rate, goal_path=None):\n",
    "    if goal_path==None: goal_path = os.getcwd()\n",
    "    \n",
    "    ''' timer '''\n",
    "    all_time_start = time.time()\n",
    "    \n",
    "    ''' replication index (not running) '''\n",
    "    #rep = 0\n",
    "    \n",
    "    ''' time-step scales parameters '''\n",
    "    all_time_step = 500\n",
    "    \n",
    "    ''' map size parameters '''\n",
    "    meta_length, meta_width = 320, 320\n",
    "    #patch_num = 16  # 1, 4, 16, 64, 256, 1024\n",
    "    patch_num_x_axis, patch_num_y_axis = int(np.sqrt(patch_num)), int(np.sqrt(patch_num))\n",
    "    patch_location_ls = [(i,j) for i in range(patch_num_x_axis) for j in range(patch_num_y_axis)] # patch_row, hab_col\n",
    "    if patch_num == 1: hab_num_in_patch = 16\n",
    "    else: hab_num_in_patch = 4\n",
    "    hab_num_x_axis, hab_num_y_axis = int(np.sqrt(hab_num_in_patch)), int(np.sqrt(hab_num_in_patch)) # hab_num_x_axis in a patch, hab_num_y_axis in a patch\n",
    "    hab_length, hab_width = int(meta_length/patch_num_y_axis/hab_num_y_axis), int(meta_width/patch_num_x_axis/hab_num_x_axis) \n",
    "\n",
    "    ''' environmental parameters '''\n",
    "    environment_types_num = 2\n",
    "    environment_types_name=('x_axis_environment', 'y_axis_environment')\n",
    "    environment_variation_ls = [0.025, 0.025]\n",
    "    total_dormancy_pool_max_size = 0\n",
    "    \n",
    "    is_heterogeneity=False\n",
    "    if is_heterogeneity==False: x_axis_environment_values_ls, y_axis_environment_values_ls = [0.0,0.1,0.2,0.3,0.4,0.5,0.6,0.7,0.8,0.9], [0.0,0.1,0.2,0.3,0.4,0.5,0.6,0.7,0.8,0.9] #离散值\n",
    "    elif is_heterogeneity==True: x_axis_environment_values_ls, y_axis_environment_values_ls = [0.1, 0.9], [0.1, 0.9]                    #连续值\n",
    "    \n",
    "    ''' demography parameters '''\n",
    "    base_dead_rate=0.1\n",
    "    fitness_wid=0.5\n",
    "    #reproduce_mode = 'sexual'\n",
    "    asexual_birth_rate = 0.5\n",
    "    sexual_birth_rate = 1\n",
    "    mutation_rate=0\n",
    "    \n",
    "    ''' landscape parameters '''\n",
    "    colonize_rate = 0.001\n",
    "    #total_disp_among_rate = 0.001\n",
    "    #disp_within_rate =0.1\n",
    "    propagules_rain_num = 40000 * colonize_rate\n",
    "    #patch_dist_rate = 0.00001\n",
    "    \n",
    "    ''' species parameters '''\n",
    "    #species_num = 4\n",
    "    traits_num = 2\n",
    "    pheno_names_ls = ('x_axis_phenotype', 'y_axis_phenotype')\n",
    "    pheno_var_ls=(0.025, 0.025)\n",
    "    geno_len_ls=(20, 20)\n",
    "    species_2_phenotype_ls = [[i/10, j/10] for i in range(0,10) for j in range(0,10)]\n",
    "    #[[0.2,0.2], [0.4,0.4], [0.6,0.6], [0.8,0.8]] # (index+1) indicates species_id\n",
    "    \n",
    "    ''' logging or not logging '''\n",
    "    is_logging = True\n",
    "    \n",
    "    ''' logging module '''\n",
    "    if is_logging == True: \n",
    "        logger_file_name = goal_path+'/'+'rep=%d-logger.log'%(rep)\n",
    "        logger_file = open(logger_file_name, \"a\")\n",
    "    \n",
    "    ''' initailization processes '''\n",
    "    write_in_logger_info = ''\n",
    "    \n",
    "    mainland, log_info = generate_empty_mainland(meta_name='mainland', patch_num=1, patch_location_ls=[(0,0)], hab_num=100, hab_length=20, hab_width=20, dormancy_pool_max_size=0, \n",
    "                                                 x_axis_environment_values_ls=[0.0,0.1,0.2,0.3,0.4,0.5,0.6,0.7,0.8,0.9], y_axis_environment_values_ls=[0.0,0.1,0.2,0.3,0.4,0.5,0.6,0.7,0.8,0.9], \n",
    "                                                 environment_types_num=environment_types_num, environment_types_name=environment_types_name, environment_variation_ls=environment_variation_ls,baseline_jce = 0.51,decay_jce = 5)\n",
    "    write_in_logger_info += log_info\n",
    "    \n",
    "    meta_obj, log_info = generating_empty_metacommunity('metacommunity', patch_num, patch_location_ls, hab_num_in_patch, hab_length, hab_width, int(new_round(total_dormancy_pool_max_size/(patch_num*hab_num_in_patch))), \n",
    "                                                        x_axis_environment_values_ls, y_axis_environment_values_ls, environment_types_num, environment_types_name, environment_variation_ls, 0.51,5,is_heterogeneity) \n",
    "    write_in_logger_info += log_info\n",
    "    \n",
    "    write_in_logger_info += mainland.meta_initialize(traits_num, pheno_names_ls, pheno_var_ls, geno_len_ls, reproduce_mode, species_2_phenotype_ls)\n",
    "    \n",
    "    write_logger(write_in_logger_info, is_logging, logger_file)\n",
    "    \n",
    "    ''' data saving and files controling '''\n",
    "    columns_patch_id, columns_habitat_id, columns_mocrosite_id = meta_obj.columns_patch_habitat_microsites_id()\n",
    "    columns = [columns_patch_id, columns_habitat_id, columns_mocrosite_id]\n",
    "    #mode='w'\n",
    "    #meta_sp_dis_all_time = meta_obj.get_meta_microsites_optimum_sp_id_val(base_dead_rate, fitness_wid, species_2_phenotype_ls)\n",
    "    #meta_x_axis_phenotype_all_time = meta_obj.get_meta_microsite_environment_values(environment_name='x_axis_environment')\n",
    "    #meta_y_axis_phenotype_all_time = meta_obj.get_meta_microsite_environment_values(environment_name='y_axis_environment')\n",
    "    #mode='a'\n",
    "    meta_obj.meta_distribution_data_all_time_to_csv_gz(dis_data_all_time=meta_obj.get_meta_microsites_optimum_sp_id_val(base_dead_rate, fitness_wid, species_2_phenotype_ls), \n",
    "                                                       file_name=goal_path+'/'+'rep=%d-meta_species_distribution_all_time.csv.gz'%(rep), \n",
    "                                                       index=['optimun_sp_id_values'], columns=columns, mode='w')\n",
    "    meta_obj.meta_distribution_data_all_time_to_csv_gz(dis_data_all_time=meta_obj.get_meta_microsite_environment_values(environment_name='x_axis_environment'), \n",
    "                                                       file_name=goal_path+'/'+'rep=%d-meta_x_axis_phenotype_all_time.csv.gz'%(rep), \n",
    "                                                       index=['x_axis_environment_values'], columns=columns, mode='w')\n",
    "    meta_obj.meta_distribution_data_all_time_to_csv_gz(dis_data_all_time=meta_obj.get_meta_microsite_environment_values(environment_name='y_axis_environment'), \n",
    "                                                       file_name=goal_path+'/'+'rep=%d-meta_y_axis_phenotype_all_time.csv.gz'%(rep), \n",
    "                                                       index=['y_axis_environment_values'], columns=columns, mode='w')\n",
    "    for time_step in range(all_time_step): \n",
    "        write_in_logger_info = ''\n",
    "        write_in_logger_info += 'time_step=%d \\n'%time_step\n",
    "        #print('time_step=%d'%time_step)\n",
    "        if reproduce_mode == 'asexual':\n",
    "            ''' dead selection process in mainland and metacommunity '''\n",
    "            write_in_logger_info += mainland.meta_dead_selection(base_dead_rate, fitness_wid, method='niche_gaussian')\n",
    "            write_in_logger_info += mainland.meta_mainland_asexual_birth_mutate_germinate(asexual_birth_rate, mutation_rate, pheno_var_ls)\n",
    "            write_in_logger_info += meta_obj.meta_dead_selection(base_dead_rate, fitness_wid, method='niche_gaussian')\n",
    "            ''' reproduction process '''\n",
    "            write_in_logger_info += meta_obj.meta_asex_reproduce_calculation_into_offspring_marker_pool(asexual_birth_rate)\n",
    "            #meta_obj.meta_asex_reproduce_mutate_into_offspring_pool(asexual_birth_rate, mutation_rate, pheno_var_ls)\n",
    "            ''' dispersal processes '''\n",
    "            write_in_logger_info += meta_obj.meta_colonize_from_propagules_rains(mainland, propagules_rain_num)\n",
    "            write_in_logger_info += meta_obj.meta_dispersal_within_patch_from_offspring_marker_to_immigrant_marker_pool(disp_within_rate)\n",
    "            #meta_obj.meta_dispersal_within_patch_from_offspring_to_immigrant_pool(disp_within_rate)\n",
    "            write_in_logger_info += meta_obj.dispersal_aomng_patches_from_offspring_marker_pool_to_immigrant_marker_pool(total_disp_among_rate)\n",
    "            #meta_obj.dispersal_aomng_patches_from_offspring_pool_to_immigrant_pool(total_disp_among_rate)\n",
    "            ''' germination processes '''\n",
    "            write_in_logger_info += meta_obj.meta_local_germinate_and_birth_from_offspring_marker_and_immigrant_marker_pool(mutation_rate, pheno_var_ls)\n",
    "            #meta_obj.meta_local_germinate_from_offspring_and_immigrant_pool()\n",
    "            #meta_obj.meta_local_germinate_from_offspring_immigrant_and_dormancy_pool()\n",
    "            ''' dormancy process (not running) '''\n",
    "            #meta_obj.meta_dormancy_process_from_offspring_pool_and_immigrant_pool()\n",
    "            ''' disturbance process '''\n",
    "            write_in_logger_info += meta_obj.meta_disturbance_process_in_patches(patch_dist_rate)\n",
    "            ''' eliminating offspring and immigrant (marker) pool '''\n",
    "            meta_obj.meta_clear_up_offspring_marker_and_immigrant_marker_pool()\n",
    "            #meta_obj.meta_clear_up_offspring_and_immigrant_pool()\n",
    "            \n",
    "        elif reproduce_mode == 'sexual':\n",
    "            ''' dead selection process in mainland and metacommunity '''\n",
    "            write_in_logger_info += mainland.meta_dead_selection(base_dead_rate, fitness_wid, method='niche_gaussian')\n",
    "            write_in_logger_info += mainland.meta_mainland_mixed_birth_mutate_germinate(asexual_birth_rate, sexual_birth_rate, mutation_rate, pheno_var_ls)\n",
    "            write_in_logger_info += meta_obj.meta_dead_selection(base_dead_rate, fitness_wid, method='niche_gaussian')\n",
    "            ''' reproduction process '''\n",
    "            write_in_logger_info += meta_obj.meta_mix_reproduce_calculation_with_offspring_marker_pool(asexual_birth_rate, sexual_birth_rate)\n",
    "            #meta_obj.meta_mix_reproduce_mutate_into_offspring_pool(asexual_birth_rate, sexual_birth_rate, mutation_rate, pheno_var_ls)\n",
    "            ''' dispersal processes '''\n",
    "            write_in_logger_info += meta_obj.pairwise_sexual_colonization_from_prpagules_rains(mainland, propagules_rain_num)\n",
    "            write_in_logger_info += meta_obj.meta_dispersal_within_patch_from_offspring_marker_to_immigrant_marker_pool(disp_within_rate)\n",
    "            #meta_obj.meta_dispersal_within_patch_from_offspring_to_immigrant_pool(disp_within_rate)\n",
    "            write_in_logger_info += meta_obj.dispersal_aomng_patches_from_offspring_marker_pool_to_immigrant_marker_pool(total_disp_among_rate)\n",
    "            #meta_obj.dispersal_aomng_patches_from_offspring_pool_to_immigrant_pool(total_disp_among_rate)\n",
    "            ''' germination processes '''\n",
    "            write_in_logger_info += meta_obj.meta_local_germinate_and_birth_from_offspring_marker_and_immigrant_marker_pool(mutation_rate, pheno_var_ls)\n",
    "            #meta_obj.meta_local_germinate_from_offspring_and_immigrant_pool()\n",
    "            #meta_obj.meta_local_germinate_from_offspring_immigrant_and_dormancy_pool()\n",
    "            ''' dormancy process (not running) '''\n",
    "            #meta_obj.meta_dormancy_process_from_offspring_pool_and_immigrant_pool()\n",
    "            ''' disturbance process '''\n",
    "            write_in_logger_info += meta_obj.meta_disturbance_process_in_patches(patch_dist_rate)\n",
    "            ''' eliminating offspring and immigrant (marker) pool '''\n",
    "            meta_obj.meta_clear_up_offspring_marker_and_immigrant_marker_pool()\n",
    "            #meta_obj.meta_clear_up_offspring_and_immigrant_pool()\n",
    "        \n",
    "        ''' logging module '''\n",
    "        write_logger(write_in_logger_info, is_logging, logger_file)\n",
    "        \n",
    "        ''' GUI interface updates at each time-step and saves as a jpg file (not running) '''\n",
    "        #meta_obj.meta_show_species_distribution(sub_row=patch_num_y_axis, sub_col=patch_num_x_axis, hab_num_x_axis_in_patch=hab_num_x_axis, hab_num_y_axis_in_patch=hab_num_y_axis, hab_y_len=hab_length, hab_x_len=hab_width, vmin=1, vmax=100, cmap=plt.get_cmap('tab20'), file_name=goal_path+'/'+'rep=%d-time_step=%d-metacommunity_sp_x_axis_phenotype_dis.jpg'%(rep, time_step))\n",
    "\n",
    "        ''' data saving and files controling '''\n",
    "        #mode='w\n",
    "        #meta_sp_dis_all_time = np.vstack((meta_sp_dis_all_time, meta_obj.get_meta_microsites_individuals_sp_id_values()))\n",
    "        #meta_x_axis_phenotype_all_time = np.vstack((meta_x_axis_phenotype_all_time, meta_obj.get_meta_microsites_individuals_phenotype_values(trait_name='x_axis_phenotype')))\n",
    "        #meta_y_axis_phenotype_all_time = np.vstack((meta_y_axis_phenotype_all_time, meta_obj.get_meta_microsites_individuals_phenotype_values(trait_name='y_axis_phenotype')))\n",
    "        #mode='a'\n",
    "        meta_obj.meta_distribution_data_all_time_to_csv_gz(dis_data_all_time=meta_obj.get_meta_microsites_individuals_sp_id_values(), file_name=goal_path+'/'+'rep=%d-meta_species_distribution_all_time.csv.gz'%(rep), index=['time_step%d'%time_step], columns=columns, mode='a')\n",
    "        meta_obj.meta_distribution_data_all_time_to_csv_gz(dis_data_all_time=meta_obj.get_meta_microsites_individuals_phenotype_values(trait_name='x_axis_phenotype'), file_name=goal_path+'/'+'rep=%d-meta_x_axis_phenotype_all_time.csv.gz'%(rep), index=['time_step%d'%time_step], columns=columns, mode='a')\n",
    "        meta_obj.meta_distribution_data_all_time_to_csv_gz(dis_data_all_time=meta_obj.get_meta_microsites_individuals_phenotype_values(trait_name='y_axis_phenotype'), file_name=goal_path+'/'+'rep=%d-meta_y_axis_phenotype_all_time.csv.gz'%(rep), index=['time_step%d'%time_step], columns=columns, mode='a')\n",
    "    \n",
    "    ''' GUI interface updates at the end of a simulation saves as a jpg file '''\n",
    "    #camp1,camp2,camp3 = plt.get_cmap('tab20'),plt.get_cmap('tab20b'),plt.get_cmap('tab20c')\n",
    "    #new_camp = ListedColormap(camp1.colors+camp2.colors+camp3.colors)\n",
    "    new_camp = plt.get_cmap('gist_rainbow')\n",
    "    \n",
    "    mainland.meta_show_species_distribution(sub_row=1, sub_col=1, hab_num_x_axis_in_patch=10, hab_num_y_axis_in_patch=10, hab_y_len=20, hab_x_len=20, vmin=1, vmax=100, cmap=new_camp, file_name=goal_path+'/'+'rep=%d-time_step=%d-mainland_sp_dis.jpg'%(rep, time_step))\n",
    "    meta_obj.meta_show_species_distribution(sub_row=patch_num_y_axis, sub_col=patch_num_x_axis, hab_num_x_axis_in_patch=hab_num_x_axis, hab_num_y_axis_in_patch=hab_num_y_axis, hab_y_len=hab_length, hab_x_len=hab_width, vmin=1, vmax=100, cmap=plt.get_cmap('tab20'), file_name=goal_path+'/'+'rep=%d-time_step=%d-metacommunity_sp_dis.jpg'%(rep, time_step))\n",
    "    meta_obj.meta_show_species_phenotype_distribution(trait_name='x_axis_phenotype', sub_row=patch_num_y_axis, sub_col=patch_num_x_axis, hab_num_x_axis_in_patch=hab_num_x_axis, hab_num_y_axis_in_patch=hab_num_y_axis, hab_y_len=hab_length, hab_x_len=hab_width, cmap=plt.get_cmap('Blues'), file_name=goal_path+'/'+'rep=%d-time_step=%d-metacommunity_sp_x_axis_phenotype_dis.jpg'%(rep, time_step))\n",
    "    meta_obj.meta_show_species_phenotype_distribution(trait_name='y_axis_phenotype', sub_row=patch_num_y_axis, sub_col=patch_num_x_axis, hab_num_x_axis_in_patch=hab_num_x_axis, hab_num_y_axis_in_patch=hab_num_y_axis, hab_y_len=hab_length, hab_x_len=hab_width, cmap=plt.get_cmap('Greens'), file_name=goal_path+'/'+'rep=%d-time_step=%d-metacommunity_sp_y_axis_phenotype_dis.jpg'%(rep, time_step))\n",
    "    #meta_obj.meta_show_environment_distribution(environment_name='x_axis_environment', sub_row=patch_num_y_axis, sub_col=patch_num_x_axis, hab_num_x_axis_in_patch=hab_num_x_axis, hab_num_y_axis_in_patch=hab_num_y_axis, hab_y_len=hab_length, hab_x_len=hab_width, mask_loc='upper', cmap=plt.get_cmap('Blues'), file_name=goal_path+'/'+'rep=%d-metacommunity_x_axis_environment.jpg'%(rep))\n",
    "    #meta_obj.meta_show_environment_distribution(environment_name='y_axis_environment', sub_row=patch_num_y_axis, sub_col=patch_num_x_axis, hab_num_x_axis_in_patch=hab_num_x_axis, hab_num_y_axis_in_patch=hab_num_y_axis, hab_y_len=hab_length, hab_x_len=hab_width, mask_loc='lower', cmap=plt.get_cmap('Greens'), file_name=goal_path+'/'+'rep=%d-metacommunity_y_axis_environment.jpg'%(rep))\n",
    "    meta_obj.meta_show_two_environment_distribution(environment1_name='x_axis_environment', environment2_name='y_axis_environment', sub_row=patch_num_y_axis, sub_col=patch_num_x_axis, hab_num_x_axis_in_patch=hab_num_x_axis, hab_num_y_axis_in_patch=hab_num_y_axis, hab_y_len=hab_length, hab_x_len=hab_width, mask_loc1='upper', mask_loc2='lower', cmap1=plt.get_cmap('Blues'), cmap2=plt.get_cmap('Greens'), file_name=goal_path+'/'+'rep=%d-metacommunity_environment.jpg'%(rep))\n",
    "\n",
    "    #''' data saving as a csv.gz files, mode='w' '''\n",
    "    #mode='w'\n",
    "    #meta_obj.meta_distribution_data_all_time_to_csv_gz(dis_data_all_time=meta_sp_dis_all_time, file_name=goal_path+'/'+'rep=%d_meta_species_distribution_all_time.csv.gz'%(rep), index=['optimun_sp_id_values']+['time_step%d'%i for i in range(all_time_step)], columns=columns, mode='w')\n",
    "    #meta_obj.meta_distribution_data_all_time_to_csv_gz(dis_data_all_time=meta_x_axis_phenotype_all_time, file_name=goal_path+'/'+'rep=%d_meta_x_axis_phenotype_all_time.csv.gz'%(rep), index=['x_axis_environment_values']+['time_step%d'%i for i in range(all_time_step)], columns=columns, mode='w')\n",
    "    #meta_obj.meta_distribution_data_all_time_to_csv_gz(dis_data_all_time=meta_y_axis_phenotype_all_time, file_name=goal_path+'/'+'rep=%d_meta_y_axis_phenotype_all_time.csv.gz'%(rep), index=['y_axis_environment_values']+['time_step%d'%i for i in range(all_time_step)], columns=columns, mode='w')\n",
    "    \n",
    "    ''' timer '''\n",
    "    all_time_end = time.time()\n",
    "    \n",
    "    ''' logging module '''\n",
    "    log_info = \"totoal simulation time：%.8s s \\n\" % (all_time_end-all_time_start)\n",
    "    write_logger(log_info, is_logging, logger_file)\n",
    "    if is_logging == True: logger_file.close()\n",
    "    #print(log_info)"
   ]
  },
  {
   "cell_type": "code",
   "execution_count": 14,
   "metadata": {},
   "outputs": [
    {
     "name": "stderr",
     "output_type": "stream",
     "text": [
      "100%|██████████| 500/500 [1:00:44<00:00,  7.29s/it]\n"
     ]
    },
    {
     "data": {
      "text/plain": [
       "<Figure size 4000x4000 with 0 Axes>"
      ]
     },
     "metadata": {},
     "output_type": "display_data"
    },
    {
     "data": {
      "text/plain": [
       "<Figure size 4000x4000 with 0 Axes>"
      ]
     },
     "metadata": {},
     "output_type": "display_data"
    },
    {
     "data": {
      "text/plain": [
       "<Figure size 4000x4000 with 0 Axes>"
      ]
     },
     "metadata": {},
     "output_type": "display_data"
    },
    {
     "data": {
      "text/plain": [
       "<Figure size 4000x4000 with 0 Axes>"
      ]
     },
     "metadata": {},
     "output_type": "display_data"
    },
    {
     "data": {
      "text/plain": [
       "<Figure size 4000x4000 with 0 Axes>"
      ]
     },
     "metadata": {},
     "output_type": "display_data"
    }
   ],
   "source": [
    "if __name__ == '__main__':\n",
    "    main(rep=0, patch_num=1, reproduce_mode='asexual', total_disp_among_rate=0.001, disp_within_rate=0.1, patch_dist_rate=0.00001)"
   ]
  }
 ],
 "metadata": {
  "kernelspec": {
   "display_name": "base",
   "language": "python",
   "name": "python3"
  },
  "language_info": {
   "codemirror_mode": {
    "name": "ipython",
    "version": 3
   },
   "file_extension": ".py",
   "mimetype": "text/x-python",
   "name": "python",
   "nbconvert_exporter": "python",
   "pygments_lexer": "ipython3",
   "version": "3.11.5"
  }
 },
 "nbformat": 4,
 "nbformat_minor": 2
}
